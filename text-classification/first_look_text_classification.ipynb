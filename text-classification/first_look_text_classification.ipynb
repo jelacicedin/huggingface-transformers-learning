{
 "cells": [
  {
   "cell_type": "markdown",
   "metadata": {},
   "source": [
    "## First look at Huggingface datasets"
   ]
  },
  {
   "cell_type": "markdown",
   "metadata": {},
   "source": [
    "Imports"
   ]
  },
  {
   "cell_type": "code",
   "execution_count": 48,
   "metadata": {},
   "outputs": [],
   "source": [
    "from datasets import list_datasets\n",
    "from datasets import load_dataset\n",
    "import matplotlib.pyplot as plt\n",
    "from transformers import AutoTokenizer\n",
    "from transformers import AutoModel\n",
    "import torch\n",
    "import numpy as np\n",
    "from umap import UMAP\n",
    "from sklearn.preprocessing import MinMaxScaler\n",
    "import pandas as pd\n",
    "from sklearn.linear_model import LogisticRegression\n",
    "from sklearn.dummy import DummyClassifier\n",
    "from sklearn.metrics import ConfusionMatrixDisplay, confusion_matrix"
   ]
  },
  {
   "cell_type": "code",
   "execution_count": 2,
   "metadata": {},
   "outputs": [
    {
     "name": "stderr",
     "output_type": "stream",
     "text": [
      "/tmp/ipykernel_2848/3298537432.py:1: FutureWarning: list_datasets is deprecated and will be removed in the next major version of datasets. Use 'huggingface_hub.list_datasets' instead.\n",
      "  all_datasets = list_datasets(with_community_datasets = True, with_details = False )\n"
     ]
    }
   ],
   "source": [
    "all_datasets = list_datasets(with_community_datasets=True, with_details=False)"
   ]
  },
  {
   "cell_type": "code",
   "execution_count": 3,
   "metadata": {},
   "outputs": [
    {
     "data": {
      "text/plain": [
       "['amirveyseh/acronym_identification',\n",
       " 'ade_corpus_v2',\n",
       " 'UCLNLP/adversarial_qa',\n",
       " 'Yale-LILY/aeslc',\n",
       " 'afrikaans_ner_corpus',\n",
       " 'fancyzhx/ag_news',\n",
       " 'allenai/ai2_arc',\n",
       " 'google/air_dialogue',\n",
       " 'komari6/ajgt_twitter_ar',\n",
       " 'legacy-datasets/allegro_reviews',\n",
       " 'tblard/allocine',\n",
       " 'mutiyama/alt',\n",
       " 'fancyzhx/amazon_polarity',\n",
       " 'defunct-datasets/amazon_reviews_multi',\n",
       " 'defunct-datasets/amazon_us_reviews',\n",
       " 'sewon/ambig_qa',\n",
       " 'nala-cub/americas_nli',\n",
       " 'legacy-datasets/ami',\n",
       " 'gavinxing/amttl',\n",
       " 'facebook/anli',\n",
       " 'app_reviews',\n",
       " 'deepmind/aqua_rat',\n",
       " 'google-research-datasets/aquamuse',\n",
       " 'bigIR/ar_cov19',\n",
       " 'hadyelsahar/ar_res_reviews',\n",
       " 'iabufarha/ar_sarcasm',\n",
       " 'arabic_billion_words',\n",
       " 'QCRI/arabic_pos_dialect',\n",
       " 'arabic_speech_corpus',\n",
       " 'hsseinmz/arcd',\n",
       " 'ramybaly/arsentd_lev',\n",
       " 'allenai/art',\n",
       " 'arxiv_dataset',\n",
       " 'tuanphong/ascent_kb',\n",
       " 'aslg_pc12',\n",
       " 'AmazonScience/asnq',\n",
       " 'facebook/asset',\n",
       " 'nilc-nlp/assin',\n",
       " 'nilc-nlp/assin2',\n",
       " 'allenai/atomic',\n",
       " 'autshumato',\n",
       " 'facebook/babi_qa',\n",
       " 'banking77',\n",
       " 'phiwi/bbaw_egyptian',\n",
       " 'midas/bbc_hindi_nli',\n",
       " 'spyysalo/bc2gm_corpus',\n",
       " 'AI-Lab-Makerere/beans',\n",
       " 'nectec/best2009',\n",
       " 'Helsinki-NLP/bianet',\n",
       " 'Helsinki-NLP/bible_para',\n",
       " 'NortheasternUniversity/big_patent',\n",
       " 'billsum',\n",
       " 'microsoft/bing_coronavirus_query_set',\n",
       " 'nlpaueb/biomrc',\n",
       " 'tabilab/biosses',\n",
       " 'TheBritishLibrary/blbooks',\n",
       " 'TheBritishLibrary/blbooksgenre',\n",
       " 'blended_skill_talk',\n",
       " 'nyu-mll/blimp',\n",
       " 'barilan/blog_authorship_corpus',\n",
       " 'rezacsedu/bn_hate_speech',\n",
       " 'bnl_newspapers',\n",
       " 'bookcorpus',\n",
       " 'defunct-datasets/bookcorpusopen',\n",
       " 'google/boolq',\n",
       " 'clarin-pl/bprec',\n",
       " 'allenai/break_data',\n",
       " 'UFRGS/brwac',\n",
       " 'ryo0634/bsd_ja_en',\n",
       " 'bswac',\n",
       " 'c3',\n",
       " 'c4',\n",
       " 'cail2018',\n",
       " 'caner',\n",
       " 'soarescmsa/capes',\n",
       " 'kchawla123/casino',\n",
       " 'catalonia_independence',\n",
       " 'microsoft/cats_vs_dogs',\n",
       " 'cawac',\n",
       " 'cbt',\n",
       " 'cc100',\n",
       " 'vblagoje/cc_news',\n",
       " 'ahelk/ccaligned_multilingual',\n",
       " 'cdsc',\n",
       " 'ptaszynski/cdt',\n",
       " 'sagteam/cedr_v1',\n",
       " 'google-research-datasets/cfq',\n",
       " 'shiyue/chr_en',\n",
       " 'cifar10',\n",
       " 'cifar100',\n",
       " 'google-research-datasets/circa',\n",
       " 'google/civil_comments',\n",
       " 'clickbait_news_bg',\n",
       " 'tdiggelm/climate_fever',\n",
       " 'clinc_oos',\n",
       " 'clue',\n",
       " 'hfl/cmrc2018',\n",
       " 'cmu_hinglish_dog',\n",
       " 'abisee/cnn_dailymail',\n",
       " 'google-research-datasets/coached_conv_pref',\n",
       " 'google-research-datasets/coarse_discourse',\n",
       " 'jaredfern/codah',\n",
       " 'code_search_net',\n",
       " 'google/code_x_glue_cc_clone_detection_big_clone_bench',\n",
       " 'google/code_x_glue_cc_clone_detection_poj104',\n",
       " 'google/code_x_glue_cc_cloze_testing_all',\n",
       " 'google/code_x_glue_cc_cloze_testing_maxmin',\n",
       " 'google/code_x_glue_cc_code_completion_line',\n",
       " 'google/code_x_glue_cc_code_completion_token',\n",
       " 'google/code_x_glue_cc_code_refinement',\n",
       " 'google/code_x_glue_cc_code_to_code_trans',\n",
       " 'google/code_x_glue_cc_defect_detection',\n",
       " 'google/code_x_glue_ct_code_to_text',\n",
       " 'google/code_x_glue_tc_nl_code_search_adv',\n",
       " 'google/code_x_glue_tc_text_to_code',\n",
       " 'google/code_x_glue_tt_text_to_text',\n",
       " 'iamrishiraj/com_qa',\n",
       " 'allenai/common_gen',\n",
       " 'speechbrain/common_language',\n",
       " 'legacy-datasets/common_voice',\n",
       " 'tau/commonsense_qa',\n",
       " 'hendrycks/competition_math',\n",
       " 'asuglia/compguesswhat',\n",
       " 'conceptnet5',\n",
       " 'eriktks/conll2000',\n",
       " 'eriktks/conll2002',\n",
       " 'eriktks/conll2003',\n",
       " 'ZihanWangKi/conllpp',\n",
       " 'consumer-finance-complaints',\n",
       " 'conv_ai',\n",
       " 'conv_ai_2',\n",
       " 'conv_ai_3',\n",
       " 'pchristm/conv_questions',\n",
       " 'stanfordnlp/coqa',\n",
       " 'allenai/cord19',\n",
       " 'cornell_movie_dialog',\n",
       " 'cos_e',\n",
       " 'allenai/cosmos_qa',\n",
       " 'ucrelnlp/counter',\n",
       " 'castorini/covid_qa_castorini',\n",
       " 'deepset/covid_qa_deepset',\n",
       " 'covid_qa_ucsd',\n",
       " 'covid_tweets_japanese',\n",
       " 'covost2',\n",
       " 'cppe-5',\n",
       " 'stanfordnlp/craigslist_bargains',\n",
       " 'google-research-datasets/crawl_domain',\n",
       " 'microsoft/crd3',\n",
       " 'crime_and_punish',\n",
       " 'nyu-mll/crows_pairs',\n",
       " 'aviaefrat/cryptonite',\n",
       " 'cs_restaurants',\n",
       " 'theatticusproject/cuad-qa',\n",
       " 'facebook/curiosity_dialogs',\n",
       " 'daily_dialog',\n",
       " 'alexandrainst/dane',\n",
       " 'danish_political_comments',\n",
       " 'Yale-LILY/dart',\n",
       " 'datacommonsorg/datacommons_factcheck',\n",
       " 'fancyzhx/dbpedia_14',\n",
       " 'benjaminvdb/dbrd',\n",
       " 'mikelewis0/deal_or_no_dialog',\n",
       " 'definite_pronoun_resolution',\n",
       " 'jcblaise/dengue_filipino',\n",
       " 'dialog_re',\n",
       " 'diplomacy_detection',\n",
       " 'disaster_response_messages',\n",
       " 'discofuse',\n",
       " 'sileod/discovery',\n",
       " 'google-research-datasets/disfl_qa',\n",
       " 'IBM/doc2dial',\n",
       " 'thunlp/docred',\n",
       " 'doqa',\n",
       " 'dream',\n",
       " 'ucinlp/drop',\n",
       " 'ibm/duorc',\n",
       " 'dutch_social',\n",
       " 'dyk',\n",
       " 'tuetschek/e2e_nlg',\n",
       " 'tuetschek/e2e_nlg_cleaned',\n",
       " 'Helsinki-NLP/ecb',\n",
       " 'AUEB-NLP/ecthr_cases',\n",
       " 'tugstugi/eduge',\n",
       " 'ehealth_kd',\n",
       " 'Helsinki-NLP/eitb_parcc',\n",
       " 'tulipa762/electricity_load_diagrams',\n",
       " 'defunct-datasets/eli5',\n",
       " 'rexarski/eli5_category',\n",
       " 'Helsinki-NLP/emea',\n",
       " 'emo',\n",
       " 'dair-ai/emotion',\n",
       " 'emotone_ar',\n",
       " 'facebook/empathetic_dialogues',\n",
       " 'ThiagoCF05/enriched_web_nlg',\n",
       " 'CogComp/eraser_multi_rc',\n",
       " 'esnli',\n",
       " 'google-research-datasets/eth_py150_open',\n",
       " 'iamollas/ethos',\n",
       " 'eu_regulatory_ir',\n",
       " 'eurlex',\n",
       " 'euronews',\n",
       " 'europa_eac_tm',\n",
       " 'europa_ecdc_tm',\n",
       " 'Helsinki-NLP/europarl',\n",
       " 'uwnlp/event2Mind',\n",
       " 'jaydeyoung/evidence_infer_treatment',\n",
       " 'mhardalov/exams',\n",
       " 'factckbr',\n",
       " 'fake_news_english',\n",
       " 'jcblaise/fake_news_filipino',\n",
       " 'farsi_news',\n",
       " 'fashion_mnist',\n",
       " 'fever/fever',\n",
       " 'thunlp/few_rel',\n",
       " 'takala/financial_phrasebank',\n",
       " 'mpsilfve/finer',\n",
       " 'facebook-llama/flores',\n",
       " 'GETALP/flue',\n",
       " 'food101',\n",
       " 'illuin/fquad',\n",
       " 'KelvinJiang/freebase_qa',\n",
       " 'google-research-datasets/gap',\n",
       " 'GEM/gem',\n",
       " 'airesearch/generated_reviews_enth',\n",
       " 'generics_kb',\n",
       " 'elenanereiss/german_legal_entity_recognition',\n",
       " 'germaner',\n",
       " 'germeval_14',\n",
       " 'Helsinki-NLP/giga_fren',\n",
       " 'Harvard/gigaword',\n",
       " 'glucose',\n",
       " 'nyu-mll/glue',\n",
       " 'gnad10',\n",
       " 'go_emotions',\n",
       " 'allenai/gooaq',\n",
       " 'google-research-datasets/google_wellformed_query',\n",
       " 'grail_qa',\n",
       " 'google-research-datasets/great_code',\n",
       " 'AI-team-UoA/greek_legal_code',\n",
       " 'Efstathios/guardian_authorship',\n",
       " 'gutenberg_time',\n",
       " 'jhu-cogsci/hans',\n",
       " 'hansards',\n",
       " 'Elnagara/hard',\n",
       " 'harem',\n",
       " 'has_part',\n",
       " 'legacy-datasets/hate_offensive',\n",
       " 'odegiber/hate_speech18',\n",
       " 'hate_speech_filipino',\n",
       " 'tdavidson/hate_speech_offensive',\n",
       " 'hate_speech_pl',\n",
       " 'hate_speech_portuguese',\n",
       " 'Hate-speech-CNERG/hatexplain',\n",
       " 'UdS-LSV/hausa_voa_ner',\n",
       " 'UdS-LSV/hausa_voa_topics',\n",
       " 'NirantK/hda_nli_hindi',\n",
       " 'dvilares/head_qa',\n",
       " 'ImperialCollegeLondon/health_fact',\n",
       " 'hebrew_projectbenyehuda',\n",
       " 'hebrew_sentiment',\n",
       " 'hebrew_this_world',\n",
       " 'Rowan/hellaswag',\n",
       " 'cais/mmlu',\n",
       " 'pary/hind_encorp',\n",
       " 'midas/hindi_discourse',\n",
       " 'allenai/hippocorpus',\n",
       " 'nanyang-technological-university-singapore/hkcancor',\n",
       " 'philippelaban/hlgd',\n",
       " 'hope_edi',\n",
       " 'hotpot_qa',\n",
       " 'hover',\n",
       " 'hrenwac_para',\n",
       " 'hrwac',\n",
       " 'humicroedit',\n",
       " 'wenhu/hybrid_qa',\n",
       " 'hyperpartisan_news_detection',\n",
       " 'iapp/iapp_wiki_qa_squad',\n",
       " 'id_clickbait',\n",
       " 'fajrikoto/id_liputan6',\n",
       " 'id_nergrit_corpus',\n",
       " 'id_newspapers_2018',\n",
       " 'cahya/id_panl_bppt',\n",
       " 'ilhamfp/id_puisi',\n",
       " 'ignatius/igbo_english_machine_translation',\n",
       " 'ignatius/igbo_monolingual',\n",
       " 'ignatius/igbo_ner',\n",
       " 'ilist',\n",
       " 'stanfordnlp/imdb',\n",
       " 'mirfan899/imdb_urdu_reviews',\n",
       " 'imppres',\n",
       " 'indic_glue',\n",
       " 'afaji/indonli',\n",
       " 'indonlp/indonlu',\n",
       " 'UT-CompLing/inquisitive_qg',\n",
       " 'yavuzkomecoglu/interpress_news_category_tr',\n",
       " 'yavuzkomecoglu/interpress_news_category_tr_lite',\n",
       " 'jkkummerfeld/irc_disentangle',\n",
       " 'isixhosa_ner_corpus',\n",
       " 'isizulu_ner_corpus',\n",
       " 'IWSLT/iwslt2017',\n",
       " 'jeopardy',\n",
       " 'jhu-clsp/jfleg',\n",
       " 'google/jigsaw_toxicity_pred',\n",
       " 'google/jigsaw_unintended_bias',\n",
       " 'jnlpba',\n",
       " 'journalists_questions',\n",
       " 'AdWeeb/kan_hope',\n",
       " 'gaurvar/kannada_news',\n",
       " 'thu-coai/kd_conv_with_kb',\n",
       " 'Helsinki-NLP/kde4',\n",
       " 'google-research-datasets/kelm',\n",
       " 'kilt_tasks',\n",
       " 'facebook/kilt_wikipedia',\n",
       " 'andreniyongabo/kinnews_kirnews',\n",
       " 'klue',\n",
       " 'wicho/kor_3i4k',\n",
       " 'inmoonlight/kor_hate',\n",
       " 'kor_ner',\n",
       " 'kakaobrain/kor_nli',\n",
       " 'kakaobrain/kor_nlu',\n",
       " 'songys/kor_qpair',\n",
       " 'wicho/kor_sae',\n",
       " 'kor_sarcasm',\n",
       " 'mohamedadaly/labr',\n",
       " 'facebook/lama',\n",
       " 'cimec/lambada',\n",
       " 'josecannete/large_spanish_corpus',\n",
       " 'universityofbucharest/laroseda',\n",
       " 'mohnish/lc_quad',\n",
       " 'peluz/lener_br',\n",
       " 'coastalcph/lex_glue',\n",
       " 'ucsbnlp/liar',\n",
       " 'librispeech_asr',\n",
       " 'openslr/librispeech_lm',\n",
       " 'IBM/limit',\n",
       " 'lince',\n",
       " 'cambridgeltl/linnaeus',\n",
       " 'liveqa',\n",
       " 'keithito/lj_speech',\n",
       " 'lm1b',\n",
       " 'lst-nectec/lst20',\n",
       " 'cis-lmu/m_lama',\n",
       " 'nilc-nlp/mac_morpho',\n",
       " 'makhzan',\n",
       " 'masakhane/masakhaner',\n",
       " 'deepmind/math_dataset',\n",
       " 'allenai/math_qa',\n",
       " 'matinf',\n",
       " 'mbpp',\n",
       " 'mc4',\n",
       " 'CogComp/mc_taco',\n",
       " 'facebook/md_gender_bias',\n",
       " 'facebook/mdd',\n",
       " 'med_hop',\n",
       " 'McGill-NLP/medal',\n",
       " 'UCSD26/medical_dialog',\n",
       " 'medical_questions_pairs',\n",
       " 'UdS-LSV/menyo20k_mt',\n",
       " 'microsoft/meta_woz',\n",
       " 'midas/metooma',\n",
       " 'Zaid/metrec',\n",
       " 'PierreColombo/miam',\n",
       " 'siripragadashashank/mkb',\n",
       " 'apple/mkqa',\n",
       " 'facebook/mlqa',\n",
       " 'reciTAL/mlsum',\n",
       " 'ylecun/mnist',\n",
       " 'anthonychen/mocha',\n",
       " 'universityofbucharest/moroco',\n",
       " 'movie_rationales',\n",
       " 'mrqa',\n",
       " 'ms_marco',\n",
       " 'microsoft/ms_terms',\n",
       " 'microsoft/msr_genomics_kbcomp',\n",
       " 'microsoft/msr_sqa',\n",
       " 'microsoft/msr_text_compression',\n",
       " 'microsoft/msr_zhen_translation_parity',\n",
       " 'levow/msra_ner',\n",
       " 'IWSLT/mt_eng_vietnamese',\n",
       " 'muchocine',\n",
       " 'jerbarnes/multi_booked',\n",
       " 'coastalcph/multi_eurlex',\n",
       " 'alexfabbri/multi_news',\n",
       " 'nyu-mll/multi_nli',\n",
       " 'nyu-mll/multi_nli_mismatch',\n",
       " 'Helsinki-NLP/multi_para_crawl',\n",
       " 'google-research-datasets/multi_re_qa',\n",
       " 'pfb30/multi_woz_v22',\n",
       " 'yaolu/multi_x_science_sum',\n",
       " 'IBM/multidoc2dial',\n",
       " 'legacy-datasets/multilingual_librispeech',\n",
       " 'stanfordnlp/mutual_friends',\n",
       " 'salesforce/mwsc',\n",
       " 'ayehninnkhine/myanmar_news',\n",
       " 'narrativeqa',\n",
       " 'deepmind/narrativeqa_manual',\n",
       " 'google-research-datasets/natural_questions',\n",
       " 'ncbi/ncbi_disease',\n",
       " 'nchlt',\n",
       " 'ncslgr',\n",
       " 'nell',\n",
       " 'facebook/neural_code_search',\n",
       " 'Helsinki-NLP/news_commentary',\n",
       " 'google-research-datasets/newsgroup',\n",
       " 'jcblaise/newsph',\n",
       " 'jcblaise/newsph_nli',\n",
       " 'liaad/newspop',\n",
       " 'newsqa',\n",
       " 'lil-lab/newsroom',\n",
       " 'nkjp-ner',\n",
       " 'boun-tabi/nli_tr',\n",
       " 'xingkunliuxtracta/nlu_evaluation_data',\n",
       " 'ltgoslo/norec',\n",
       " 'ltgoslo/norne',\n",
       " 'ljos/norwegian_ner',\n",
       " 'nq_open',\n",
       " 'e9t/nsmc',\n",
       " 'INK-USC/numer_sense',\n",
       " 'yanaiela/numeric_fused_head',\n",
       " 'oclar',\n",
       " 'vpmoreira/offcombr',\n",
       " 'coltekin/offenseval2020_tr',\n",
       " 'offenseval_dravidian',\n",
       " 'Helsinki-NLP/ofis_publik',\n",
       " 'ohsumed',\n",
       " 'knowitall/ollie',\n",
       " 'OFAI/omp',\n",
       " 'onestop_english',\n",
       " 'malmaud/onestop_qa',\n",
       " 'Helsinki-NLP/open_subtitles',\n",
       " 'openai_humaneval',\n",
       " 'allenai/openbookqa',\n",
       " 'openslr/openslr',\n",
       " 'Skylion007/openwebtext',\n",
       " 'kavgan/opinosis',\n",
       " 'Helsinki-NLP/opus-100',\n",
       " 'Helsinki-NLP/opus_books',\n",
       " 'Helsinki-NLP/opus_dgt',\n",
       " 'Helsinki-NLP/opus_dogc',\n",
       " 'Helsinki-NLP/opus_elhuyar',\n",
       " 'Helsinki-NLP/euconst',\n",
       " 'Helsinki-NLP/opus_finlex',\n",
       " 'Helsinki-NLP/opus_fiskmo',\n",
       " 'Helsinki-NLP/opus_gnome',\n",
       " 'Helsinki-NLP/opus_infopankki',\n",
       " 'Helsinki-NLP/opus_memat',\n",
       " 'Helsinki-NLP/opus_montenegrinsubs',\n",
       " 'Helsinki-NLP/opus_openoffice',\n",
       " 'Helsinki-NLP/opus_paracrawl',\n",
       " 'Helsinki-NLP/opus_rf',\n",
       " 'Helsinki-NLP/opus_tedtalks',\n",
       " 'Helsinki-NLP/opus_ubuntu',\n",
       " 'Helsinki-NLP/opus_wikipedia',\n",
       " 'Helsinki-NLP/opus_xhosanavy',\n",
       " 'EdinburghNLP/orange_sum',\n",
       " 'oscar-corpus/oscar',\n",
       " 'para_crawl',\n",
       " 'para_pat',\n",
       " 'parsinlu_reading_comprehension',\n",
       " 'yukimasano/pass',\n",
       " 'paws-x',\n",
       " 'paws',\n",
       " 'peixiang/pec',\n",
       " 'allenai/peer_read',\n",
       " 'peoples_daily_ner',\n",
       " 'per_sent',\n",
       " 'HaniehPoostchi/persian_ner',\n",
       " 'deepmind/pg19',\n",
       " 'Helsinki-NLP/php',\n",
       " 'AgentPublic/piaf',\n",
       " 'jerin/pib',\n",
       " 'ybisk/piqa',\n",
       " 'HooshvareLab/pn_summary',\n",
       " 'google-research-datasets/poem_sentiment',\n",
       " 'clarin-pl/polemo2',\n",
       " 'poleval/poleval2019_cyberbullying',\n",
       " 'poleval/poleval2019_mt',\n",
       " 'maciej-ogrodniczuk/polsum',\n",
       " 'rmyeid/polyglot_ner',\n",
       " 'PyThaiNLP/prachathai67k',\n",
       " 'sileod/pragmeval',\n",
       " 'proto_qa',\n",
       " 'psc',\n",
       " 'ptb_text_only',\n",
       " 'ncbi/pubmed',\n",
       " 'qiaojin/PubMedQA',\n",
       " '1stvamp/py_ast',\n",
       " 'qa4mre',\n",
       " 'luheng/qa_srl',\n",
       " 'qa_zre',\n",
       " 'qangaroo',\n",
       " 'qanta',\n",
       " 'allenai/qasc',\n",
       " 'allenai/qasper',\n",
       " 'google-research-datasets/qed',\n",
       " 'Helsinki-NLP/qed_amara',\n",
       " 'allenai/quac',\n",
       " 'quail',\n",
       " 'quarel',\n",
       " 'allenai/quartz',\n",
       " 'quora',\n",
       " 'allenai/quoref',\n",
       " 'ehovy/race',\n",
       " 're_dial',\n",
       " 'mhardalov/reasoning_bg',\n",
       " 'mbien/recipe_nlg',\n",
       " 'reclor',\n",
       " 'kdexd/red_caps',\n",
       " 'webis/tldr-17',\n",
       " 'reddit_tifu',\n",
       " 'eleftheria/refresd',\n",
       " 'ucirvine/reuters21578',\n",
       " 'INK-USC/riddle_sense',\n",
       " 'dumitrescustefan/ro_sent',\n",
       " 'dumitrescustefan/ro_sts',\n",
       " 'dumitrescustefan/ro_sts_parallel',\n",
       " 'roman_urdu',\n",
       " 'ronec',\n",
       " 'allenai/ropes',\n",
       " 'rotten_tomatoes',\n",
       " 'RussianNLP/russian_super_glue',\n",
       " 'Samsung/samsum',\n",
       " 'surajp/sanskrit_classic',\n",
       " 'inparallel/saudinewsnet',\n",
       " 'kuznetsoffandrey/sberquad',\n",
       " 'scan',\n",
       " 'airesearch/scb_mt_enth_2020',\n",
       " 'zhoubolei/scene_parse_150',\n",
       " 'google-research-datasets/schema_guided_dstc8',\n",
       " 'allenai/scicite',\n",
       " 'scielo',\n",
       " 'armanc/scientific_papers',\n",
       " 'allenai/scifact',\n",
       " 'allenai/sciq',\n",
       " 'allenai/scitail',\n",
       " 'allenai/scitldr',\n",
       " 'kyunghyuncho/search_qa',\n",
       " 'sede',\n",
       " 'selqa',\n",
       " 'sem_eval_2010_task_8',\n",
       " 'sem_eval_2014_task_1',\n",
       " 'sem_eval_2018_task_1',\n",
       " 'sem_eval_2020_task_11',\n",
       " 'sent_comp',\n",
       " 'senti_lex',\n",
       " 'senti_ws',\n",
       " 'stanfordnlp/sentiment140',\n",
       " 'sepedi_ner',\n",
       " 'sesotho_ner_corpus',\n",
       " 'setimes',\n",
       " 'setswana_ner_corpus',\n",
       " 'UCLNLP/sharc',\n",
       " 'nikhilweee/sharc_modified',\n",
       " 'RobZamp/sick',\n",
       " 'eusip/silicone',\n",
       " 'fbougares/simple_questions_v2',\n",
       " 'siswati_ner_corpus',\n",
       " 'dfki-nlp/smartdata',\n",
       " 'ucirvine/sms_spam',\n",
       " 'snips_built_in_intents',\n",
       " 'stanfordnlp/snli',\n",
       " 'snow_simplified_japanese_corpus',\n",
       " 'so_stacksample',\n",
       " 'allenai/social_bias_frames',\n",
       " 'allenai/social_i_qa',\n",
       " 'sofc_materials_articles',\n",
       " 'sogou_news',\n",
       " 'crscardellino/spanish_billion_words',\n",
       " 'Helsinki-NLP/spc',\n",
       " 'spyysalo/species_800',\n",
       " 'google/speech_commands',\n",
       " 'xlangai/spider',\n",
       " 'rajpurkar/squad',\n",
       " 'stanfordnlp/squad_adversarial',\n",
       " 'ccasimiro/squad_es',\n",
       " 'crux82/squad_it',\n",
       " 'squad_kor_v1',\n",
       " 'squad_kor_v2',\n",
       " 'nunorc/squad_v1_pt',\n",
       " 'rajpurkar/squad_v2',\n",
       " 'ludwigschmidt/squadshifts',\n",
       " 'srwac',\n",
       " 'stanfordnlp/sst',\n",
       " 'McGill-NLP/stereoset',\n",
       " 'story_cloze',\n",
       " 'timpal0l/stsb_mt_sv',\n",
       " 'PhilipMay/stsb_multi_mt',\n",
       " 'style_change_detection',\n",
       " 'megagonlabs/subjqa',\n",
       " 'aps/super_glue',\n",
       " 's3prl/superb',\n",
       " 'svhn',\n",
       " 'allenai/swag',\n",
       " 'swahili',\n",
       " 'swahili_news',\n",
       " 'cgpotts/swda',\n",
       " 'swedish_medical_ner',\n",
       " 'klintan/swedish_ner_corpus',\n",
       " 'timpal0l/swedish_reviews',\n",
       " 'rcds/swiss_judgment_prediction',\n",
       " 'wenhu/tab_fact',\n",
       " 'tamilmixsentiment',\n",
       " 'Helsinki-NLP/tanzil',\n",
       " 'tapaco',\n",
       " 'tashkeela',\n",
       " 'google-research-datasets/taskmaster1',\n",
       " 'google-research-datasets/taskmaster2',\n",
       " 'google-research-datasets/taskmaster3',\n",
       " 'Helsinki-NLP/tatoeba',\n",
       " 'neulab/ted_hrlr',\n",
       " 'Helsinki-NLP/ted_iwlst2013',\n",
       " 'neulab/ted_multi',\n",
       " 'IWSLT/ted_talks_iwslt',\n",
       " 'telugu_books',\n",
       " 'telugu_news',\n",
       " 'Helsinki-NLP/tep_en_fa_para',\n",
       " 'alevkov95/text2log',\n",
       " 'thai_toxicity_tweet',\n",
       " 'wannaphong/thainer',\n",
       " 'pythainlp/thaiqa_squad',\n",
       " 'nakhun/thaisum',\n",
       " 'EleutherAI/pile',\n",
       " 'defunct-datasets/the_pile_books3',\n",
       " 'defunct-datasets/the_pile_openwebtext2',\n",
       " 'defunct-datasets/the_pile_stack_exchange',\n",
       " 'Helsinki-NLP/tilde_model',\n",
       " 'google-research-datasets/time_dial',\n",
       " 'times_of_india_news_headlines',\n",
       " 'timit_asr',\n",
       " 'karpathy/tiny_shakespeare',\n",
       " 'jitkapat/tlc',\n",
       " 'tmu_gfm_dataset',\n",
       " 'JAugusto97/told-br',\n",
       " 'google-research-datasets/totto',\n",
       " 'CogComp/trec',\n",
       " 'mandarjoshi/trivia_qa',\n",
       " 'fbougares/tsac',\n",
       " 'savasy/ttc4900',\n",
       " 'chaymafourati/tunizi',\n",
       " 'allenai/tuple_ie',\n",
       " 'turk',\n",
       " 'turkic_xwmt',\n",
       " 'mkeskin/turkish_movie_sentiment',\n",
       " 'erayyildiz/turkish_ner',\n",
       " 'fthbrmnby/turkish_product_reviews',\n",
       " 'turkish_shrinked_ner',\n",
       " 'TurkuNLP/turku_ner_corpus',\n",
       " 'tweet_eval',\n",
       " 'tweet_qa',\n",
       " 'tweets_ar_en_parallel',\n",
       " 'tweets_hate_speech_detection',\n",
       " 'ajesujoba/twi_text_c3',\n",
       " 'ajesujoba/twi_wordsim353',\n",
       " 'google-research-datasets/tydiqa',\n",
       " 'ubuntu_dialogs_corpus',\n",
       " 'udhr',\n",
       " 'um005',\n",
       " 'Helsinki-NLP/un_ga',\n",
       " 'Helsinki-NLP/multiun',\n",
       " 'Helsinki-NLP/un_pc',\n",
       " 'universal_dependencies',\n",
       " 'universal_morphologies',\n",
       " 'urdu_fake_news',\n",
       " 'urdu_sentiment_corpus',\n",
       " 'vctk',\n",
       " 'vivos',\n",
       " 'web_nlg',\n",
       " 'web_of_science',\n",
       " 'web_questions',\n",
       " 'hltcoe/weibo_ner',\n",
       " 'wi_locness',\n",
       " 'CUHK-CSE/wider_face',\n",
       " 'wiki40b',\n",
       " 'neulab/wiki_asp',\n",
       " 'google-research-datasets/wiki_atomic_edits',\n",
       " 'chaojiang06/wiki_auto',\n",
       " 'michaelauli/wiki_bio',\n",
       " 'facebook/wiki_dpr',\n",
       " 'wiki_hop',\n",
       " 'wiki_lingua',\n",
       " 'facebook/wiki_movies',\n",
       " 'wiki_qa',\n",
       " 'qcri/wiki_qa_ar',\n",
       " 'wiki_snippets',\n",
       " 'Helsinki-NLP/wiki_source',\n",
       " 'google-research-datasets/wiki_split',\n",
       " 'm3hrdadfi/wiki_summary',\n",
       " 'unimelb-nlp/wikiann',\n",
       " 'gboleda/wikicorpus',\n",
       " 'wangwilliamyang/wikihow',\n",
       " 'wikipedia',\n",
       " 'Salesforce/wikisql',\n",
       " 'wikitext',\n",
       " 'wikitext_tl39',\n",
       " 'MartinThoma/wili_2018',\n",
       " 'uclanlp/wino_bias',\n",
       " 'ErnestSDavis/winograd_wsc',\n",
       " 'allenai/winogrande',\n",
       " 'allenai/wiqa',\n",
       " 'pythainlp/wisesight1000',\n",
       " 'pythainlp/wisesight_sentiment',\n",
       " 'wmt/wmt14',\n",
       " 'wmt/wmt15',\n",
       " 'wmt/wmt16',\n",
       " 'wmt/wmt17',\n",
       " 'wmt/wmt18',\n",
       " 'wmt/wmt19',\n",
       " 'wmt/wmt20_mlqe_task1',\n",
       " 'wmt/wmt20_mlqe_task2',\n",
       " 'wmt/wmt20_mlqe_task3',\n",
       " 'wmt/wmt_t2t',\n",
       " 'leondz/wnut_17',\n",
       " 'wongnai_reviews',\n",
       " 'PolyAI/woz_dialogue',\n",
       " 'CLARIN-PL/wrbsc',\n",
       " 'ZurichNLP/x_stance',\n",
       " 'cambridgeltl/xcopa',\n",
       " 'INK-USC/xcsr',\n",
       " 'Helsinki-NLP/xed_en_fi',\n",
       " 'microsoft/xglue',\n",
       " 'xnli',\n",
       " 'akariasai/xor_tydi_qa',\n",
       " 'google/xquad',\n",
       " 'xquad_r',\n",
       " 'EdinburghNLP/xsum',\n",
       " 'google-research-datasets/xsum_factuality',\n",
       " 'google/xtreme',\n",
       " 'yahoo_answers_qa',\n",
       " 'yahoo_answers_topics',\n",
       " 'fancyzhx/yelp_polarity',\n",
       " 'yelp_review_full',\n",
       " 'yoruba_bbc_topics',\n",
       " 'ajesujoba/yoruba_gv_ner',\n",
       " 'ajesujoba/yoruba_text_c3',\n",
       " 'ajesujoba/yoruba_wordsim353',\n",
       " 'youtube_caption_corrections',\n",
       " 'allenai/zest',\n",
       " '0n1xus/codexglue',\n",
       " '0n1xus/pytorrent-standalone',\n",
       " 'AConsApart/anime_subtitles_DialoGPT',\n",
       " 'AHussain0418/day2_data',\n",
       " 'AHussain0418/day4data',\n",
       " 'AHussain0418/demo_data',\n",
       " 'AI-Sweden/SuperLim',\n",
       " 'AI-it/khs_service_test',\n",
       " 'AI-it/korean-hate-speech',\n",
       " 'ARKseal/YFCC14M_subset_webdataset',\n",
       " 'ARTeLab/fanpage',\n",
       " 'ARTeLab/ilpost',\n",
       " 'ARTeLab/mlsum-it',\n",
       " 'ASCCCCCCCC/amazon_zh',\n",
       " 'ASCCCCCCCC/amazon_zh_simple',\n",
       " 'Abdo1Kamr/Arabic_Hadith',\n",
       " 'Abirate/code_net_dataset',\n",
       " 'Abirate/code_net_dev_dataset',\n",
       " 'Abirate/code_net_test_final_dataset',\n",
       " 'Abirate/english_quotes',\n",
       " 'Abirate/french_book_reviews',\n",
       " 'AdWeeb/DravidianMT',\n",
       " 'Adnan/Urdu_News_Headlines',\n",
       " 'AhmadSawal/qa',\n",
       " 'AhmedSSoliman/CoNaLa',\n",
       " 'Aisha/BAAD16',\n",
       " 'Aisha/BAAD6',\n",
       " 'Akila/ForgottenRealmsWikiDataset',\n",
       " 'Akshith/aa',\n",
       " 'Akshith/g_rock',\n",
       " 'Akshith/test',\n",
       " 'adorkin/extended_tweet_emojis',\n",
       " 'AlekseyKorshuk/comedy-scripts',\n",
       " 'AlekseyKorshuk/horror-scripts',\n",
       " 'AlexMaclean/all-deletion-compressions',\n",
       " 'AlexMaclean/wikipedia-deletion-compressions',\n",
       " 'AlexZapolskii/zapolskii-amazon',\n",
       " 'Aliseyfi/event_token_type',\n",
       " 'Alvenir/nst-da-16khz',\n",
       " 'AndrewMcDowell/de_corpora_parliament_processed',\n",
       " 'Annabelleabbott/real-fake-news-workshop',\n",
       " 'Annielytics/DoctorsNotes',\n",
       " 'Anurag-Singh-creator/task',\n",
       " 'Anurag-Singh-creator/tasks',\n",
       " 'ApiInferenceTest/asr_dummy',\n",
       " 'Arnold/hausa_common_voice',\n",
       " 'AryanLala/autonlp-data-Scientific_Title_Generator',\n",
       " 'Atsushi/fungi_diagnostic_chars_comparison_japanese',\n",
       " 'Atsushi/fungi_indexed_mycological_papers_japanese',\n",
       " 'Atsushi/fungi_trait_circus_database',\n",
       " 'Avishekavi/Avi',\n",
       " 'Babelscape/rebel-dataset',\n",
       " 'Babelscape/wikineural',\n",
       " 'BatuhanYilmaz/github-issues',\n",
       " 'Baybars/parla_text_corpus',\n",
       " 'BeIR/beir-corpus',\n",
       " 'BeIR/beir',\n",
       " 'Lacito/pangloss',\n",
       " 'Binbin/my_dataset',\n",
       " 'BlakesOrb6/Fred-Flintstone',\n",
       " 'Bosio/pacman',\n",
       " 'Bosio/pacman_descriptions',\n",
       " 'TheBritishLibrary/EThOS-PhD-metadata',\n",
       " 'CAGER/rick',\n",
       " 'CALM/arwiki',\n",
       " 'CAiRE/ASCEND',\n",
       " 'CShorten/KerasBERT',\n",
       " 'ChadxxxxHall/Inter-vision',\n",
       " 'Champion/vpc2020_clear_anon_speech',\n",
       " 'Check/a_re_gi',\n",
       " 'Check/region_1',\n",
       " 'Check/region_2',\n",
       " 'Check/region_3',\n",
       " 'Check/region_4',\n",
       " 'Check/region_5',\n",
       " 'Check/region_6',\n",
       " 'Check/region_7',\n",
       " 'Check/region_8',\n",
       " 'Check/region_9',\n",
       " 'Check/regions',\n",
       " 'Check/vverify',\n",
       " 'Cheranga/test',\n",
       " 'ChristophSchuhmann/MS_COCO_2017_URL_TEXT',\n",
       " 'Chun/dataset',\n",
       " 'Chuu/Vhh',\n",
       " 'CodedotAI/code-clippy-tfrecords',\n",
       " 'CodedotAI/code_clippy',\n",
       " 'CodedotAI/code_clippy_github',\n",
       " 'Crives/haha',\n",
       " 'Cropinky/flatearther',\n",
       " 'Cropinky/rap_lyrics_english',\n",
       " 'Cropinky/wow_fishing_bobber',\n",
       " 'Cyberfish/pos_tagger',\n",
       " 'Cyberfish/text_error_correction',\n",
       " 'CyranoB/polarity',\n",
       " 'DDSC/angry-tweets',\n",
       " 'DDSC/dkhate',\n",
       " 'DDSC/europarl',\n",
       " 'DDSC/lcc',\n",
       " 'DDSC/reddit-da-asr-preprocessed',\n",
       " 'DDSC/reddit-da',\n",
       " 'DELith/github-issues',\n",
       " 'DSCI511G1/COP26_Energy_Transition_Tweets',\n",
       " 'DanL/scientific-challenges-and-directions-dataset',\n",
       " 'Daniele/dante-corpus',\n",
       " 'Darren/data',\n",
       " 'Nexdata/accented_english',\n",
       " 'Nexdata/accented_mandarin',\n",
       " 'Nexdata/chinese_dialect',\n",
       " 'Nexdata/mandarin_chinese',\n",
       " 'Nexdata/mixed_speech_chinese_english',\n",
       " 'Nexdata/multi_language',\n",
       " 'Nexdata/multi_language_conversation',\n",
       " 'Davlan/conll2003_de_noMISC',\n",
       " 'Davlan/conll2003_noMISC',\n",
       " 'Davlan/masakhanerV1',\n",
       " 'DelgadoPanadero/Pokemon',\n",
       " 'DeskDown/ALTDataset',\n",
       " 'DeskDown/ALTDataset_en-to-fil-vi-id-ms-ja-khm',\n",
       " 'DiFronzo/Human_Activity_Recognition',\n",
       " 'Dmitriy612/1',\n",
       " 'Doohae/klue-mrc-bm25',\n",
       " 'Doohae/modern_music_re',\n",
       " 'DoyyingFace/github-embeddings-doy',\n",
       " 'DoyyingFace/github-issues-doy',\n",
       " 'DrishtiSharma/as_opus100_processed',\n",
       " 'DrishtiSharma/bg_opus100_processed',\n",
       " 'DrishtiSharma/br_opus100_processed',\n",
       " 'DrishtiSharma/hi_opus100_processed',\n",
       " 'DrishtiSharma/kk_opus100_processed',\n",
       " 'DrishtiSharma/mr_opus100_processed',\n",
       " 'DrishtiSharma/or_opus100_processed',\n",
       " 'DrishtiSharma/sl_opus100_processed',\n",
       " 'DrishtiSharma/sr_opus100_processed',\n",
       " 'EMBO/biolang',\n",
       " 'EMBO/sd-nlp',\n",
       " 'ESZER/H',\n",
       " 'Emanuel/UD_Portuguese-Bosque',\n",
       " 'Emma121/aaaaa',\n",
       " 'Emma121/testtest',\n",
       " 'Enes3774/data',\n",
       " 'Exr0n/wiki-entity-similarity',\n",
       " 'Eymen3455/xsum_tr',\n",
       " 'FIG-Loneliness/FIG-Loneliness',\n",
       " 'FL33TW00D/test-dataset',\n",
       " 'FRTNX/cosuju',\n",
       " 'FRTNX/worldbank-projects',\n",
       " 'Felix-ML/quoteli3',\n",
       " 'Finnish-NLP/mc4_fi_cleaned',\n",
       " 'Firoj/HumAID',\n",
       " 'Francois/futures_es',\n",
       " 'Fraser/mnist-text-default',\n",
       " 'Fraser/mnist-text-no-spaces',\n",
       " 'Fraser/mnist-text-small',\n",
       " 'Fraser/dream-coder',\n",
       " 'Fraser/python-lines',\n",
       " 'Fraser/python-state-changes',\n",
       " 'Fraser/short-jokes',\n",
       " 'Fraser/wiki_sentences',\n",
       " 'GEM/ART',\n",
       " 'GEM/BiSECT',\n",
       " 'GEM/CrossWOZ',\n",
       " 'GEM/OrangeSum',\n",
       " 'GEM/RiSAWOZ',\n",
       " 'GEM/RotoWire_English-German',\n",
       " 'GEM/SIMPITIKI',\n",
       " 'GEM/SciDuet',\n",
       " 'GEM/Taskmaster',\n",
       " 'GEM/cochrane-simplification',\n",
       " 'GEM/common_gen',\n",
       " 'GEM/conversational_weather',\n",
       " 'GEM/cs_restaurants',\n",
       " 'GEM/dart',\n",
       " 'GEM/dstc10_track2_task2',\n",
       " 'GEM/e2e_nlg',\n",
       " 'GEM/indonlg',\n",
       " 'GEM/mlb_data_to_text',\n",
       " 'GEM/mlsum',\n",
       " 'GEM/opusparcus',\n",
       " 'GEM/references',\n",
       " 'GEM/schema_guided_dialog',\n",
       " 'GEM/sportsett_basketball',\n",
       " 'GEM/squad_v2',\n",
       " 'GEM/surface_realisation_st_2020',\n",
       " 'GEM/totto',\n",
       " 'GEM/turku_hockey_data2text',\n",
       " 'GEM/turku_paraphrase_corpus',\n",
       " 'GEM-submissions/v1-outputs-and-scores',\n",
       " 'GEM/viggo',\n",
       " 'GEM/web_nlg',\n",
       " 'GEM/wiki_auto_asset_turk',\n",
       " 'GEM/wiki_cat_sum',\n",
       " 'GEM/wiki_lingua',\n",
       " 'GEM/xlsum',\n",
       " 'GEM/xsum',\n",
       " 'GEM-submissions/GEM__bart_base_schema_guided_dialog__1645547915',\n",
       " 'GEM-submissions/Leo__bart-large__1645784880',\n",
       " 'GEM-submissions/Leo__mbart-large-cc25__1645802644',\n",
       " 'GEM-submissions/lewtun__hugging-face-test-t5-base.outputs.json-36bf2a59__1645558682',\n",
       " 'GEM-submissions/lewtun__hugging-face-test-t5-base.outputs.json-36bf2a59__1645559101',\n",
       " 'GEM-submissions/lewtun__hugging-face-test-t5-base.outputs.json-36bf2a59__1645800191',\n",
       " 'GEM-submissions/lewtun__hugging-face-test-t5-base.outputs.json-36bf2a59__1646049378',\n",
       " 'GEM-submissions/lewtun__hugging-face-test-t5-base.outputs.json-36bf2a59__1646049424',\n",
       " 'GEM-submissions/lewtun__hugging-face-test-t5-base.outputs.json-36bf2a59__1646049601',\n",
       " 'GEM-submissions/lewtun__hugging-face-test-t5-base.outputs.json-36bf2a59__1646049876',\n",
       " 'GEM-submissions/lewtun__hugging-face-test-t5-base.outputs.json-36bf2a59__1646050898',\n",
       " 'GEM-submissions/lewtun__hugging-face-test-t5-base.outputs.json-36bf2a59__1646051364',\n",
       " 'GEM-submissions/lewtun__hugging-face-test-t5-base.outputs.json-36bf2a59__1646052073',\n",
       " 'GEM-submissions/lewtun__this-is-a-test__1646052811',\n",
       " 'GEM-submissions/lewtun__this-is-a-test__1646230987',\n",
       " 'GEM-submissions/ratishsp',\n",
       " 'GEM-submissions/submission-scores',\n",
       " 'GV05/shlomit_speech',\n",
       " 'Gabriel/quora_swe',\n",
       " 'GalacticAI/Noirset',\n",
       " 'Gauravadlakha1509/new_one',\n",
       " 'GeoffVdr/cv8_trainval_processed',\n",
       " 'GonzaloA/fake_news',\n",
       " 'Graphcore/gqa-lxmert',\n",
       " 'Graphcore/gqa',\n",
       " 'Graphcore/vqa-lxmert',\n",
       " 'Graphcore/vqa',\n",
       " 'Graphcore/wikipedia-bert-128',\n",
       " 'Graphcore/wikipedia-bert-512',\n",
       " 'GroNLP/ik-nlp-22_pestyle',\n",
       " 'GroNLP/ik-nlp-22_slp',\n",
       " 'GroNLP/ik-nlp-22_transqe',\n",
       " 'GroNLP/ik-nlp-22_winemag',\n",
       " 'HHousen/ParaSCI',\n",
       " 'HHousen/msrp',\n",
       " 'HHousen/quora',\n",
       " 'HUPD/hupd',\n",
       " 'Halilyesilceng/autonlp-data-nameEntityRecognition',\n",
       " 'HarleyQ/WitcherDialogue',\n",
       " 'HarrisDePerceptron/sv_corpora_parliament_processed',\n",
       " 'HarrisDePerceptron/ur_corpora_pib',\n",
       " 'Harveenchadha/bol-models',\n",
       " 'Harveenchadha/indic-voice',\n",
       " 'HarveyBWest/mybot',\n",
       " 'Hellisotherpeople/DebateSum',\n",
       " 'Helsinki-NLP/tatoeba_mt',\n",
       " 'HenryAI/KerasAPIReference.txt',\n",
       " 'HenryAI/KerasBERTv1-Data',\n",
       " 'HenryAI/KerasCodeExamples.txt',\n",
       " 'HenryAI/KerasDeveloperGuides.txt',\n",
       " 'Huertas97/autonlp-data-mami-semeval-20-21',\n",
       " 'Husain/intent-classification-en-fr',\n",
       " 'IFSTalfredoswald/MBTI',\n",
       " 'Iftoo95/Arabic_Sentiment_and_Topics',\n",
       " 'IlyaGusev/gazeta',\n",
       " 'IlyaGusev/headline_cause',\n",
       " 'Intel/WEC-Eng',\n",
       " 'Ishwar/Senti',\n",
       " 'Iskaj/dutch_corpora_parliament_processed',\n",
       " 'JIWON/nil_dataset',\n",
       " 'JIsanan/war-ceb-wikipedia',\n",
       " 'Jack0508/TED2020_kor',\n",
       " 'Jack0508/TED2020_vi',\n",
       " 'Jack0508/TED2020vi_kor',\n",
       " 'Jack0508/demo',\n",
       " 'Jack0508/eng_vi_demo',\n",
       " 'Jack0508/test',\n",
       " 'Jack0508/vi-ko-TED-txt',\n",
       " ...]"
      ]
     },
     "execution_count": 3,
     "metadata": {},
     "output_type": "execute_result"
    }
   ],
   "source": [
    "all_datasets"
   ]
  },
  {
   "cell_type": "code",
   "execution_count": 4,
   "metadata": {},
   "outputs": [
    {
     "name": "stdout",
     "output_type": "stream",
     "text": [
      "There are 155168 datasets currently available on the HF Hub.\n",
      "The first 10 are ['amirveyseh/acronym_identification', 'ade_corpus_v2', 'UCLNLP/adversarial_qa', 'Yale-LILY/aeslc', 'afrikaans_ner_corpus', 'fancyzhx/ag_news', 'allenai/ai2_arc', 'google/air_dialogue', 'komari6/ajgt_twitter_ar', 'legacy-datasets/allegro_reviews']\n"
     ]
    }
   ],
   "source": [
    "print(f\"There are {len(all_datasets)} datasets currently available on the HF Hub.\")\n",
    "print(f\"The first 10 are {all_datasets[:10]}\")"
   ]
  },
  {
   "cell_type": "markdown",
   "metadata": {},
   "source": [
    "Load the emotion dataset"
   ]
  },
  {
   "cell_type": "code",
   "execution_count": 5,
   "metadata": {},
   "outputs": [
    {
     "name": "stderr",
     "output_type": "stream",
     "text": [
      "/usr/local/lib/python3.8/dist-packages/datasets/load.py:1486: FutureWarning: The repository for emotion contains custom code which must be executed to correctly load the dataset. You can inspect the repository content at https://hf.co/datasets/emotion\n",
      "You can avoid this message in future by passing the argument `trust_remote_code=True`.\n",
      "Passing `trust_remote_code=True` will be mandatory to load this dataset from the next major release of `datasets`.\n",
      "  warnings.warn(\n"
     ]
    }
   ],
   "source": [
    "emotions = load_dataset(\"emotion\")"
   ]
  },
  {
   "cell_type": "code",
   "execution_count": 6,
   "metadata": {},
   "outputs": [
    {
     "data": {
      "text/plain": [
       "DatasetDict({\n",
       "    train: Dataset({\n",
       "        features: ['text', 'label'],\n",
       "        num_rows: 16000\n",
       "    })\n",
       "    validation: Dataset({\n",
       "        features: ['text', 'label'],\n",
       "        num_rows: 2000\n",
       "    })\n",
       "    test: Dataset({\n",
       "        features: ['text', 'label'],\n",
       "        num_rows: 2000\n",
       "    })\n",
       "})"
      ]
     },
     "execution_count": 6,
     "metadata": {},
     "output_type": "execute_result"
    }
   ],
   "source": [
    "emotions"
   ]
  },
  {
   "cell_type": "code",
   "execution_count": 7,
   "metadata": {},
   "outputs": [],
   "source": [
    "train_ds = emotions[\"train\"]"
   ]
  },
  {
   "cell_type": "code",
   "execution_count": 8,
   "metadata": {},
   "outputs": [
    {
     "data": {
      "text/plain": [
       "['text', 'label']"
      ]
     },
     "execution_count": 8,
     "metadata": {},
     "output_type": "execute_result"
    }
   ],
   "source": [
    "train_ds\n",
    "train_ds.column_names"
   ]
  },
  {
   "cell_type": "code",
   "execution_count": 9,
   "metadata": {},
   "outputs": [
    {
     "name": "stdout",
     "output_type": "stream",
     "text": [
      "{'text': ['i didnt feel humiliated', 'i can go from feeling so hopeless to so damned hopeful just from being around someone who cares and is awake', 'im grabbing a minute to post i feel greedy wrong', 'i am ever feeling nostalgic about the fireplace i will know that it is still on the property', 'i am feeling grouchy'], 'label': [0, 0, 3, 2, 3]}\n"
     ]
    }
   ],
   "source": [
    "print(train_ds[:5])"
   ]
  },
  {
   "cell_type": "code",
   "execution_count": 10,
   "metadata": {},
   "outputs": [
    {
     "data": {
      "text/html": [
       "<div>\n",
       "<style scoped>\n",
       "    .dataframe tbody tr th:only-of-type {\n",
       "        vertical-align: middle;\n",
       "    }\n",
       "\n",
       "    .dataframe tbody tr th {\n",
       "        vertical-align: top;\n",
       "    }\n",
       "\n",
       "    .dataframe thead th {\n",
       "        text-align: right;\n",
       "    }\n",
       "</style>\n",
       "<table border=\"1\" class=\"dataframe\">\n",
       "  <thead>\n",
       "    <tr style=\"text-align: right;\">\n",
       "      <th></th>\n",
       "      <th>text</th>\n",
       "      <th>label</th>\n",
       "    </tr>\n",
       "  </thead>\n",
       "  <tbody>\n",
       "    <tr>\n",
       "      <th>0</th>\n",
       "      <td>i didnt feel humiliated</td>\n",
       "      <td>0</td>\n",
       "    </tr>\n",
       "    <tr>\n",
       "      <th>1</th>\n",
       "      <td>i can go from feeling so hopeless to so damned...</td>\n",
       "      <td>0</td>\n",
       "    </tr>\n",
       "    <tr>\n",
       "      <th>2</th>\n",
       "      <td>im grabbing a minute to post i feel greedy wrong</td>\n",
       "      <td>3</td>\n",
       "    </tr>\n",
       "    <tr>\n",
       "      <th>3</th>\n",
       "      <td>i am ever feeling nostalgic about the fireplac...</td>\n",
       "      <td>2</td>\n",
       "    </tr>\n",
       "    <tr>\n",
       "      <th>4</th>\n",
       "      <td>i am feeling grouchy</td>\n",
       "      <td>3</td>\n",
       "    </tr>\n",
       "  </tbody>\n",
       "</table>\n",
       "</div>"
      ],
      "text/plain": [
       "                                                text  label\n",
       "0                            i didnt feel humiliated      0\n",
       "1  i can go from feeling so hopeless to so damned...      0\n",
       "2   im grabbing a minute to post i feel greedy wrong      3\n",
       "3  i am ever feeling nostalgic about the fireplac...      2\n",
       "4                               i am feeling grouchy      3"
      ]
     },
     "execution_count": 10,
     "metadata": {},
     "output_type": "execute_result"
    }
   ],
   "source": [
    "emotions.set_format(type=\"pandas\")\n",
    "df = emotions[\"train\"][:]\n",
    "df.head()"
   ]
  },
  {
   "cell_type": "code",
   "execution_count": 11,
   "metadata": {},
   "outputs": [
    {
     "data": {
      "text/html": [
       "<div>\n",
       "<style scoped>\n",
       "    .dataframe tbody tr th:only-of-type {\n",
       "        vertical-align: middle;\n",
       "    }\n",
       "\n",
       "    .dataframe tbody tr th {\n",
       "        vertical-align: top;\n",
       "    }\n",
       "\n",
       "    .dataframe thead th {\n",
       "        text-align: right;\n",
       "    }\n",
       "</style>\n",
       "<table border=\"1\" class=\"dataframe\">\n",
       "  <thead>\n",
       "    <tr style=\"text-align: right;\">\n",
       "      <th></th>\n",
       "      <th>text</th>\n",
       "      <th>label</th>\n",
       "      <th>label_name</th>\n",
       "    </tr>\n",
       "  </thead>\n",
       "  <tbody>\n",
       "    <tr>\n",
       "      <th>0</th>\n",
       "      <td>i didnt feel humiliated</td>\n",
       "      <td>0</td>\n",
       "      <td>sadness</td>\n",
       "    </tr>\n",
       "    <tr>\n",
       "      <th>1</th>\n",
       "      <td>i can go from feeling so hopeless to so damned...</td>\n",
       "      <td>0</td>\n",
       "      <td>sadness</td>\n",
       "    </tr>\n",
       "    <tr>\n",
       "      <th>2</th>\n",
       "      <td>im grabbing a minute to post i feel greedy wrong</td>\n",
       "      <td>3</td>\n",
       "      <td>anger</td>\n",
       "    </tr>\n",
       "    <tr>\n",
       "      <th>3</th>\n",
       "      <td>i am ever feeling nostalgic about the fireplac...</td>\n",
       "      <td>2</td>\n",
       "      <td>love</td>\n",
       "    </tr>\n",
       "    <tr>\n",
       "      <th>4</th>\n",
       "      <td>i am feeling grouchy</td>\n",
       "      <td>3</td>\n",
       "      <td>anger</td>\n",
       "    </tr>\n",
       "  </tbody>\n",
       "</table>\n",
       "</div>"
      ],
      "text/plain": [
       "                                                text  label label_name\n",
       "0                            i didnt feel humiliated      0    sadness\n",
       "1  i can go from feeling so hopeless to so damned...      0    sadness\n",
       "2   im grabbing a minute to post i feel greedy wrong      3      anger\n",
       "3  i am ever feeling nostalgic about the fireplac...      2       love\n",
       "4                               i am feeling grouchy      3      anger"
      ]
     },
     "execution_count": 11,
     "metadata": {},
     "output_type": "execute_result"
    }
   ],
   "source": [
    "def label_int2str(row):\n",
    "    return emotions[\"train\"].features[\"label\"].int2str(row)\n",
    "\n",
    "\n",
    "df[\"label_name\"] = df[\"label\"].apply(label_int2str)\n",
    "df.head()"
   ]
  },
  {
   "cell_type": "code",
   "execution_count": 12,
   "metadata": {},
   "outputs": [
    {
     "data": {
      "image/png": "[encoded data removed]",
      "text/plain": [
       "<Figure size 640x480 with 1 Axes>"
      ]
     },
     "metadata": {},
     "output_type": "display_data"
    }
   ],
   "source": [
    "df[\"label_name\"].value_counts(ascending=True).plot.barh()\n",
    "plt.title(\"Frequency of Classes\")\n",
    "plt.show()"
   ]
  },
  {
   "cell_type": "code",
   "execution_count": 13,
   "metadata": {},
   "outputs": [
    {
     "data": {
      "image/png": "[encoded data removed]",
      "text/plain": [
       "<Figure size 640x480 with 1 Axes>"
      ]
     },
     "metadata": {},
     "output_type": "display_data"
    }
   ],
   "source": [
    "df[\"Words Per Tweet\"] = df[\"text\"].str.split().apply(len)\n",
    "df.boxplot(\n",
    "    \"Words Per Tweet\", by=\"label_name\", grid=False, showfliers=False, color=\"black\"\n",
    ")\n",
    "plt.suptitle(\"\")\n",
    "plt.xlabel(\"\")\n",
    "plt.show()"
   ]
  },
  {
   "cell_type": "code",
   "execution_count": 14,
   "metadata": {},
   "outputs": [],
   "source": [
    "emotions.reset_format()"
   ]
  },
  {
   "cell_type": "code",
   "execution_count": 15,
   "metadata": {},
   "outputs": [
    {
     "data": {
      "application/vnd.jupyter.widget-view+json": {
       "model_id": "7d20b00c28ab403e8080f8e1fd0b931e",
       "version_major": 2,
       "version_minor": 0
      },
      "text/plain": [
       "tokenizer_config.json:   0%|          | 0.00/48.0 [00:00<?, ?B/s]"
      ]
     },
     "metadata": {},
     "output_type": "display_data"
    },
    {
     "name": "stderr",
     "output_type": "stream",
     "text": [
      "/usr/local/lib/python3.8/dist-packages/huggingface_hub/file_download.py:1132: FutureWarning: `resume_download` is deprecated and will be removed in version 1.0.0. Downloads always resume when possible. If you want to force a new download, use `force_download=True`.\n",
      "  warnings.warn(\n"
     ]
    },
    {
     "data": {
      "application/vnd.jupyter.widget-view+json": {
       "model_id": "aa3f8c9160594043aac87a9daad8ba3d",
       "version_major": 2,
       "version_minor": 0
      },
      "text/plain": [
       "config.json:   0%|          | 0.00/483 [00:00<?, ?B/s]"
      ]
     },
     "metadata": {},
     "output_type": "display_data"
    },
    {
     "data": {
      "application/vnd.jupyter.widget-view+json": {
       "model_id": "eb28683e4bc9432da5149849035f1d50",
       "version_major": 2,
       "version_minor": 0
      },
      "text/plain": [
       "vocab.txt:   0%|          | 0.00/232k [00:00<?, ?B/s]"
      ]
     },
     "metadata": {},
     "output_type": "display_data"
    },
    {
     "data": {
      "application/vnd.jupyter.widget-view+json": {
       "model_id": "e6ace2d79f6b44df836f97eb2bc7a6f2",
       "version_major": 2,
       "version_minor": 0
      },
      "text/plain": [
       "tokenizer.json:   0%|          | 0.00/466k [00:00<?, ?B/s]"
      ]
     },
     "metadata": {},
     "output_type": "display_data"
    }
   ],
   "source": [
    "model_ckpt = \"distilbert-base-uncased\"\n",
    "tokenizer = AutoTokenizer.from_pretrained(model_ckpt)"
   ]
  },
  {
   "cell_type": "code",
   "execution_count": 16,
   "metadata": {},
   "outputs": [
    {
     "name": "stdout",
     "output_type": "stream",
     "text": [
      "{'input_ids': [101, 19204, 6026, 3793, 2003, 1037, 4563, 4708, 1997, 17953, 2361, 1012, 102], 'attention_mask': [1, 1, 1, 1, 1, 1, 1, 1, 1, 1, 1, 1, 1]}\n"
     ]
    }
   ],
   "source": [
    "text = \"Tokenizing text is a core task of NLP.\"\n",
    "encoded_text = tokenizer(text)\n",
    "print(encoded_text)"
   ]
  },
  {
   "cell_type": "code",
   "execution_count": 17,
   "metadata": {},
   "outputs": [
    {
     "name": "stdout",
     "output_type": "stream",
     "text": [
      "['[CLS]', 'token', '##izing', 'text', 'is', 'a', 'core', 'task', 'of', 'nl', '##p', '.', '[SEP]']\n"
     ]
    }
   ],
   "source": [
    "tokens = tokenizer.convert_ids_to_tokens(encoded_text.input_ids)\n",
    "print(tokens)"
   ]
  },
  {
   "cell_type": "code",
   "execution_count": 18,
   "metadata": {},
   "outputs": [
    {
     "name": "stdout",
     "output_type": "stream",
     "text": [
      "[CLS] tokenizing text is a core task of nlp. [SEP]\n"
     ]
    }
   ],
   "source": [
    "print(tokenizer.convert_tokens_to_string(tokens))"
   ]
  },
  {
   "cell_type": "code",
   "execution_count": 19,
   "metadata": {},
   "outputs": [
    {
     "data": {
      "text/plain": [
       "30522"
      ]
     },
     "execution_count": 19,
     "metadata": {},
     "output_type": "execute_result"
    }
   ],
   "source": [
    "tokenizer.vocab_size"
   ]
  },
  {
   "cell_type": "code",
   "execution_count": 20,
   "metadata": {},
   "outputs": [
    {
     "data": {
      "text/plain": [
       "512"
      ]
     },
     "execution_count": 20,
     "metadata": {},
     "output_type": "execute_result"
    }
   ],
   "source": [
    "tokenizer.model_max_length"
   ]
  },
  {
   "cell_type": "code",
   "execution_count": 21,
   "metadata": {},
   "outputs": [
    {
     "name": "stdout",
     "output_type": "stream",
     "text": [
      "{'input_ids': [[101, 1045, 2134, 2102, 2514, 26608, 102, 0, 0, 0, 0, 0, 0, 0, 0, 0, 0, 0, 0, 0, 0, 0, 0], [101, 1045, 2064, 2175, 2013, 3110, 2061, 20625, 2000, 2061, 9636, 17772, 2074, 2013, 2108, 2105, 2619, 2040, 14977, 1998, 2003, 8300, 102]], 'attention_mask': [[1, 1, 1, 1, 1, 1, 1, 0, 0, 0, 0, 0, 0, 0, 0, 0, 0, 0, 0, 0, 0, 0, 0], [1, 1, 1, 1, 1, 1, 1, 1, 1, 1, 1, 1, 1, 1, 1, 1, 1, 1, 1, 1, 1, 1, 1]]}\n"
     ]
    }
   ],
   "source": [
    "def tokenize(batch):\n",
    "    return tokenizer(batch[\"text\"], padding=True, truncation=True)\n",
    "\n",
    "\n",
    "print(tokenize(emotions[\"train\"][:2]))"
   ]
  },
  {
   "cell_type": "code",
   "execution_count": 22,
   "metadata": {},
   "outputs": [
    {
     "data": {
      "application/vnd.jupyter.widget-view+json": {
       "model_id": "31ab5ac4cacb463da3127dcef252710e",
       "version_major": 2,
       "version_minor": 0
      },
      "text/plain": [
       "Map:   0%|          | 0/16000 [00:00<?, ? examples/s]"
      ]
     },
     "metadata": {},
     "output_type": "display_data"
    },
    {
     "data": {
      "application/vnd.jupyter.widget-view+json": {
       "model_id": "1ae002b9feec4578ad93ae2c5c3bbef8",
       "version_major": 2,
       "version_minor": 0
      },
      "text/plain": [
       "Map:   0%|          | 0/2000 [00:00<?, ? examples/s]"
      ]
     },
     "metadata": {},
     "output_type": "display_data"
    },
    {
     "data": {
      "application/vnd.jupyter.widget-view+json": {
       "model_id": "68444e9b52c4455596af5e99b3111880",
       "version_major": 2,
       "version_minor": 0
      },
      "text/plain": [
       "Map:   0%|          | 0/2000 [00:00<?, ? examples/s]"
      ]
     },
     "metadata": {},
     "output_type": "display_data"
    }
   ],
   "source": [
    "emotions_encoded = emotions.map(tokenize, batched=True, batch_size=None)"
   ]
  },
  {
   "cell_type": "code",
   "execution_count": 23,
   "metadata": {},
   "outputs": [
    {
     "name": "stdout",
     "output_type": "stream",
     "text": [
      "['text', 'label', 'input_ids', 'attention_mask']\n"
     ]
    }
   ],
   "source": [
    "print(emotions_encoded[\"train\"].column_names)"
   ]
  },
  {
   "cell_type": "code",
   "execution_count": 24,
   "metadata": {},
   "outputs": [
    {
     "data": {
      "application/vnd.jupyter.widget-view+json": {
       "model_id": "7e004d45fbe24ce7861ad4a42feaa604",
       "version_major": 2,
       "version_minor": 0
      },
      "text/plain": [
       "model.safetensors:   0%|          | 0.00/268M [00:00<?, ?B/s]"
      ]
     },
     "metadata": {},
     "output_type": "display_data"
    }
   ],
   "source": [
    "model_ckpt = \"distilbert-base-uncased\"\n",
    "device = torch.device(\"cuda\" if torch.cuda.is_available() else \"cpu\")\n",
    "model = AutoModel.from_pretrained(model_ckpt).to(device)"
   ]
  },
  {
   "cell_type": "code",
   "execution_count": 25,
   "metadata": {},
   "outputs": [
    {
     "name": "stdout",
     "output_type": "stream",
     "text": [
      "cuda\n"
     ]
    }
   ],
   "source": [
    "print(device)"
   ]
  },
  {
   "cell_type": "code",
   "execution_count": 26,
   "metadata": {},
   "outputs": [],
   "source": [
    "from transformers import AutoTokenizer\n",
    "\n",
    "tokenizer = AutoTokenizer.from_pretrained(model_ckpt)"
   ]
  },
  {
   "cell_type": "code",
   "execution_count": 27,
   "metadata": {},
   "outputs": [
    {
     "name": "stdout",
     "output_type": "stream",
     "text": [
      "Input tensor shape: torch.Size([1, 6])\n"
     ]
    }
   ],
   "source": [
    "text = \"this is a test\"\n",
    "inputs = tokenizer(text, return_tensors=\"pt\")\n",
    "print(f\"Input tensor shape: {inputs['input_ids'].size()}\")"
   ]
  },
  {
   "cell_type": "code",
   "execution_count": 28,
   "metadata": {},
   "outputs": [
    {
     "name": "stdout",
     "output_type": "stream",
     "text": [
      "BaseModelOutput(last_hidden_state=tensor([[[-0.1565, -0.1862,  0.0528,  ..., -0.1188,  0.0662,  0.5470],\n",
      "         [-0.3575, -0.6484, -0.0618,  ..., -0.3040,  0.3508,  0.5221],\n",
      "         [-0.2772, -0.4459,  0.1818,  ..., -0.0948, -0.0076,  0.9958],\n",
      "         [-0.2841, -0.3917,  0.3753,  ..., -0.2151, -0.1173,  1.0526],\n",
      "         [ 0.2661, -0.5094, -0.3180,  ..., -0.4203,  0.0144, -0.2149],\n",
      "         [ 0.9441,  0.0112, -0.4714,  ...,  0.1439, -0.7288, -0.1619]]],\n",
      "       device='cuda:0'), hidden_states=None, attentions=None)\n"
     ]
    }
   ],
   "source": [
    "inputs = {key: value.to(device) for key, value in inputs.items()}\n",
    "with torch.no_grad():\n",
    "    outputs = model(**inputs)\n",
    "print(outputs)"
   ]
  },
  {
   "cell_type": "code",
   "execution_count": 29,
   "metadata": {},
   "outputs": [
    {
     "data": {
      "text/plain": [
       "torch.Size([1, 6, 768])"
      ]
     },
     "execution_count": 29,
     "metadata": {},
     "output_type": "execute_result"
    }
   ],
   "source": [
    "outputs.last_hidden_state.size()"
   ]
  },
  {
   "cell_type": "code",
   "execution_count": 30,
   "metadata": {},
   "outputs": [
    {
     "data": {
      "text/plain": [
       "torch.Size([1, 768])"
      ]
     },
     "execution_count": 30,
     "metadata": {},
     "output_type": "execute_result"
    }
   ],
   "source": [
    "outputs.last_hidden_state[:, 0].size()"
   ]
  },
  {
   "cell_type": "code",
   "execution_count": 31,
   "metadata": {},
   "outputs": [],
   "source": [
    "def extract_hidden_states(batch):\n",
    "    # Place model inputs on the GPU\n",
    "    inputs = {\n",
    "        k: v.to(device) for k, v in batch.items() if k in tokenizer.model_input_names\n",
    "    }\n",
    "    # Extract last hidden states\n",
    "    with torch.no_grad():\n",
    "        last_hidden_state = model(**inputs).last_hidden_state\n",
    "    return {\"hidden_state\": last_hidden_state[:, 0].cpu().numpy()}"
   ]
  },
  {
   "cell_type": "code",
   "execution_count": 32,
   "metadata": {},
   "outputs": [],
   "source": [
    "emotions_encoded.set_format(\"torch\", columns=[\"input_ids\", \"attention_mask\", \"label\"])"
   ]
  },
  {
   "cell_type": "code",
   "execution_count": 33,
   "metadata": {},
   "outputs": [
    {
     "data": {
      "application/vnd.jupyter.widget-view+json": {
       "model_id": "c98d103673074851b9639b23e4340fd2",
       "version_major": 2,
       "version_minor": 0
      },
      "text/plain": [
       "Map:   0%|          | 0/16000 [00:00<?, ? examples/s]"
      ]
     },
     "metadata": {},
     "output_type": "display_data"
    },
    {
     "data": {
      "application/vnd.jupyter.widget-view+json": {
       "model_id": "f0b19f4e61e24ef887d885e2fcf04c8d",
       "version_major": 2,
       "version_minor": 0
      },
      "text/plain": [
       "Map:   0%|          | 0/2000 [00:00<?, ? examples/s]"
      ]
     },
     "metadata": {},
     "output_type": "display_data"
    },
    {
     "data": {
      "application/vnd.jupyter.widget-view+json": {
       "model_id": "d4c9972d466e4ec6beb046947e77b263",
       "version_major": 2,
       "version_minor": 0
      },
      "text/plain": [
       "Map:   0%|          | 0/2000 [00:00<?, ? examples/s]"
      ]
     },
     "metadata": {},
     "output_type": "display_data"
    }
   ],
   "source": [
    "emotions_hidden = emotions_encoded.map(extract_hidden_states, batched=True)"
   ]
  },
  {
   "cell_type": "code",
   "execution_count": 34,
   "metadata": {},
   "outputs": [
    {
     "data": {
      "text/plain": [
       "{'text': 'i didnt feel humiliated', 'label': 0}"
      ]
     },
     "execution_count": 34,
     "metadata": {},
     "output_type": "execute_result"
    }
   ],
   "source": [
    "emotions[\"train\"][0]"
   ]
  },
  {
   "cell_type": "code",
   "execution_count": 35,
   "metadata": {},
   "outputs": [
    {
     "data": {
      "text/plain": [
       "{'label': tensor([0]),\n",
       " 'input_ids': tensor([[  101,  1045,  2134,  2102,  2514, 26608,   102,     0,     0,     0,\n",
       "              0,     0,     0,     0,     0,     0,     0,     0,     0,     0,\n",
       "              0,     0,     0,     0,     0,     0,     0,     0,     0,     0,\n",
       "              0,     0,     0,     0,     0,     0,     0,     0,     0,     0,\n",
       "              0,     0,     0,     0,     0,     0,     0,     0,     0,     0,\n",
       "              0,     0,     0,     0,     0,     0,     0,     0,     0,     0,\n",
       "              0,     0,     0,     0,     0,     0,     0,     0,     0,     0,\n",
       "              0,     0,     0,     0,     0,     0,     0,     0,     0,     0,\n",
       "              0,     0,     0,     0,     0,     0,     0]]),\n",
       " 'attention_mask': tensor([[1, 1, 1, 1, 1, 1, 1, 0, 0, 0, 0, 0, 0, 0, 0, 0, 0, 0, 0, 0, 0, 0, 0, 0,\n",
       "          0, 0, 0, 0, 0, 0, 0, 0, 0, 0, 0, 0, 0, 0, 0, 0, 0, 0, 0, 0, 0, 0, 0, 0,\n",
       "          0, 0, 0, 0, 0, 0, 0, 0, 0, 0, 0, 0, 0, 0, 0, 0, 0, 0, 0, 0, 0, 0, 0, 0,\n",
       "          0, 0, 0, 0, 0, 0, 0, 0, 0, 0, 0, 0, 0, 0, 0]]),\n",
       " 'hidden_state': tensor([[-1.1675e-01,  9.8571e-02, -1.2963e-01, -9.5018e-02, -2.8083e-01,\n",
       "          -1.3222e-01,  2.2748e-01,  2.3100e-01,  1.6752e-01, -2.4663e-01,\n",
       "           2.1755e-02, -1.0200e-01, -1.8098e-01,  2.2351e-01,  2.0275e-01,\n",
       "           1.1693e-01, -6.9554e-04,  1.2025e-01, -1.4220e-04, -6.0743e-02,\n",
       "          -1.4382e-01, -3.1201e-01, -1.0877e-01,  1.1822e-01, -7.3939e-02,\n",
       "           7.2635e-02,  2.1319e-01, -2.9570e-01,  1.0432e-01, -1.4980e-01,\n",
       "           1.1913e-01,  1.3559e-01, -2.0512e-01,  7.9983e-02, -1.2340e-01,\n",
       "           2.4995e-02,  1.1948e-02,  1.0090e-02,  1.3740e-01, -1.3440e-02,\n",
       "          -1.1266e-01, -7.7647e-02, -1.3007e-01, -7.1688e-02,  8.5297e-02,\n",
       "          -5.4750e-02, -2.1881e+00, -5.0468e-02, -3.2211e-01, -1.6245e-01,\n",
       "           3.1700e-01, -1.9575e-01,  1.3216e-01,  3.7076e-01, -5.4104e-02,\n",
       "           3.5674e-01, -1.9445e-01,  3.1695e-01, -2.2348e-02,  9.1785e-02,\n",
       "           2.9930e-01,  2.1970e-01, -1.4083e-01, -7.3253e-03, -7.7053e-02,\n",
       "           2.2294e-01, -8.2599e-02,  3.5193e-01, -1.1241e-01,  3.1867e-01,\n",
       "          -1.4907e-01, -1.1449e-01,  1.0741e-01, -1.2594e-01,  2.2771e-01,\n",
       "          -1.9048e-01,  2.4370e-02,  2.4285e-03, -1.4327e-01,  2.5054e-01,\n",
       "           2.5349e-02,  3.1793e-01,  1.8465e-01,  2.0792e-01,  1.1736e-01,\n",
       "           1.3521e-01, -1.5004e-01, -4.5670e-02,  2.1835e-01,  2.3856e-01,\n",
       "          -2.2072e-01,  1.9323e-03,  8.0047e-02,  1.8498e-01,  2.0746e-01,\n",
       "          -2.1523e-01, -6.9960e-03, -1.0508e-01,  3.2646e-01,  1.9682e-01,\n",
       "           1.6127e-02, -1.5245e-01, -1.0681e-03, -2.9763e-01, -1.0012e-01,\n",
       "          -1.2040e-01, -1.0624e-01, -2.5459e-01, -3.0247e-02, -2.4362e+00,\n",
       "           1.7284e-01,  1.0362e-01, -2.2759e-01, -4.6082e-01, -1.3025e-01,\n",
       "           4.8602e-01,  2.8673e-01, -3.7155e-02, -1.3221e-01, -2.8163e-02,\n",
       "          -4.3642e-02,  2.4612e-01,  6.2064e-02, -1.2164e-01,  8.2866e-03,\n",
       "           1.3128e-01,  9.3803e-02, -2.1647e-01, -4.1917e-02,  2.6513e-01,\n",
       "           2.8144e-01,  4.5992e-01, -3.9946e-02,  8.7393e-02, -2.1318e-01,\n",
       "          -1.2098e-02,  1.3406e-01, -7.0123e-02, -2.5529e-02, -1.7133e-01,\n",
       "          -1.7314e-01, -2.7217e-02, -2.9234e+00,  3.5353e-01,  4.1371e-01,\n",
       "          -8.3737e-02,  1.2896e-01, -5.6391e-02, -5.7990e-02,  2.1370e-01,\n",
       "           5.9577e-02,  1.4521e-01, -1.7512e-01,  6.2901e-03, -1.6081e-01,\n",
       "           1.4830e-01, -1.8694e-01,  1.0339e-01,  3.3771e-01,  2.4423e-01,\n",
       "           3.4423e-02, -1.1541e-01, -1.2788e-01,  6.0680e-03,  1.3770e-01,\n",
       "           1.4553e-01,  1.4629e-01,  2.2852e-01,  1.8765e-01, -1.0844e-01,\n",
       "           8.6822e-02, -1.6373e-01,  2.4815e-01, -8.6249e-02,  9.9065e-02,\n",
       "          -1.9758e-01,  2.9334e-01,  2.3066e-01, -7.9578e-02,  1.5847e-02,\n",
       "          -8.5748e-02,  2.3549e-01,  8.7989e-02,  1.3007e-02,  1.0539e-01,\n",
       "           1.4956e-01,  2.9645e-01, -2.9444e-01, -1.0499e-01,  2.9548e-01,\n",
       "          -3.7255e-01, -3.4156e-01, -1.2231e-01, -2.4674e-02,  3.7060e-01,\n",
       "          -1.7973e-01, -2.5541e-02, -2.5343e-01,  2.5999e-01,  1.4390e-01,\n",
       "          -2.0943e-01, -3.1637e-01,  3.1727e-03,  2.0085e-01,  9.2304e-02,\n",
       "           3.6130e+00, -6.6018e-02, -1.0338e-01,  1.6810e-01,  2.7515e-01,\n",
       "          -6.4263e-02, -3.5365e-02, -4.3327e-02, -9.8998e-02,  1.1921e-01,\n",
       "          -5.7456e-02,  1.9335e-01, -8.8367e-02,  7.8327e-02, -2.8946e-02,\n",
       "           2.6095e-01,  1.9681e-02, -1.1885e-01,  1.1066e-02, -1.3633e-01,\n",
       "           1.7394e-01,  7.5208e-03,  1.8244e-01, -1.2067e-03, -1.2601e+00,\n",
       "          -1.2663e-01, -8.0744e-02, -3.6575e-02,  2.9806e-01, -2.4624e-01,\n",
       "          -4.0191e-02,  1.9576e-01, -2.0115e-03,  4.4442e-02,  1.5877e-01,\n",
       "          -1.5320e-01,  1.6113e-01,  3.3971e-01,  2.3434e-01, -4.0033e-01,\n",
       "           4.2836e-01,  3.2571e-01,  1.7000e-02,  1.1251e-01, -3.0598e-02,\n",
       "           3.0774e-01, -2.6340e-02, -1.3959e-01, -1.5008e-01, -8.3286e-03,\n",
       "           8.5081e-02,  1.9154e-01, -3.9110e-02, -2.4176e-01, -3.0225e-01,\n",
       "          -1.2867e-01,  1.4362e-01,  3.3107e-01,  2.0546e-01, -1.6152e-01,\n",
       "          -1.1428e-01,  5.1518e-02, -2.0517e-01,  2.1981e-01,  1.1049e-01,\n",
       "           9.3059e-03, -7.7614e-02, -2.4772e-01, -3.7827e+00, -1.6221e-01,\n",
       "          -3.9234e-03,  2.9230e-01,  3.3593e-01, -2.4887e-01, -5.5248e-02,\n",
       "           7.0810e-02,  3.3218e-01, -4.9164e-01,  3.3249e-01,  2.5237e-01,\n",
       "           1.0302e-01,  8.0644e-02, -5.0636e-01,  3.0274e-01, -1.0587e-01,\n",
       "          -3.8474e-02,  7.9369e-02,  9.6534e-02, -2.4516e-02,  2.7989e-01,\n",
       "          -2.2133e-02,  9.4403e-02,  4.0250e-02,  7.7164e-02,  3.7469e-02,\n",
       "          -2.4932e-01,  7.0242e-02, -8.8953e-02,  2.6193e-02, -2.2170e-01,\n",
       "           1.9273e-01, -1.0276e-01, -1.0124e-01, -2.6291e+00, -1.9206e-01,\n",
       "           7.4273e-02, -1.8577e-01,  1.7684e-01, -6.8023e-02,  7.8900e-02,\n",
       "          -1.3103e-01, -2.6625e-01,  1.5779e-01,  1.9868e-01, -2.7853e-01,\n",
       "           9.3143e-02,  2.1580e-01,  4.0338e-01, -1.4951e-02,  3.3463e-01,\n",
       "          -3.3864e-01,  7.5545e-02,  2.7307e-01,  1.2790e-03,  1.0240e-01,\n",
       "          -3.8401e-02, -1.5953e-01,  1.9380e-01,  3.9973e-01, -2.1533e-01,\n",
       "           8.1784e-02, -2.3262e-01, -1.1567e-02, -2.4128e-02, -1.6590e-01,\n",
       "           1.2437e-01,  7.0064e-02, -4.4675e-02, -1.9401e-01,  1.2804e-01,\n",
       "           1.7199e-01,  9.4084e-02, -1.2295e-01, -1.5975e-01,  3.0723e-01,\n",
       "           6.7915e-04,  1.4044e-01,  3.0890e-01,  7.9523e-02, -8.0768e-02,\n",
       "          -1.0552e-01, -7.2691e-02,  2.0906e-01,  8.0738e-02,  1.5862e-01,\n",
       "           1.0828e+00,  3.6032e-02,  2.8098e-01, -2.1936e-01,  1.3105e-01,\n",
       "           1.2379e-01, -9.4350e-02,  1.0612e-01,  1.5117e-01, -2.0615e-02,\n",
       "           1.0590e-01, -9.1424e-02, -2.0040e-03, -1.7689e-01,  1.6056e-01,\n",
       "          -3.1062e-01,  4.0972e-02,  2.9513e-01,  4.0659e-02,  3.2725e-02,\n",
       "          -3.4728e-02, -8.8261e-01, -2.4540e-01,  3.3993e-01, -1.0448e-01,\n",
       "          -4.5713e-02, -7.8249e-02, -2.9215e-02, -3.2579e-01,  5.1095e-02,\n",
       "          -1.0748e-01,  1.5851e-01, -1.3380e-01,  4.6656e-02, -1.2103e-02,\n",
       "           2.1974e-02, -2.9675e-01, -5.9241e-02,  1.4628e-02,  2.8186e-01,\n",
       "           2.0580e-01,  2.3218e-01,  1.2978e-01,  2.5792e-02,  2.5988e-01,\n",
       "          -6.6988e-01,  5.8503e-02, -2.1245e-01, -2.7290e-02, -2.0058e-01,\n",
       "          -2.4012e-01, -2.4583e-02, -2.6802e-01, -2.5739e-01, -3.3969e-01,\n",
       "           4.3345e-01,  2.0909e-02,  1.2613e-01, -8.7278e-02,  1.1038e-01,\n",
       "           1.7168e-02,  2.2594e-01,  9.0269e-01, -1.5640e-01,  6.0409e-02,\n",
       "           2.3355e-01,  3.6283e-02,  3.4390e-01,  3.2939e-01,  1.7398e-01,\n",
       "          -2.8532e-01, -3.9076e-02, -1.8436e-01,  1.4601e-01, -8.3951e-02,\n",
       "          -4.3313e-01, -3.7668e-01, -1.4026e-01,  3.6117e-01,  1.2553e-01,\n",
       "          -2.4964e-01, -5.6666e-01,  8.8820e-02, -3.6136e-01, -5.4826e-02,\n",
       "           1.0458e-01,  4.3815e-02,  1.0217e-01,  3.8961e-01, -1.8931e-02,\n",
       "          -1.4536e-01,  2.5490e-01, -9.3461e-02,  4.4798e-01,  1.1848e-02,\n",
       "          -8.3822e-02, -4.0042e-02,  4.4775e-01, -1.4895e-01, -3.0659e-01,\n",
       "           2.0100e-01, -1.4515e-01,  1.4737e-01,  2.1594e-01,  1.4363e-02,\n",
       "          -1.3897e-01, -9.5100e-02, -4.7475e-03,  5.4959e-02,  4.5180e-02,\n",
       "          -1.2655e+00,  4.2146e-01,  2.5284e-01, -1.4166e-01,  1.3394e-01,\n",
       "          -9.8006e-02, -2.3300e-01,  2.7161e-01,  1.8300e-01, -5.6430e-02,\n",
       "          -7.3742e-02,  2.7368e-02, -1.3798e-01, -4.4316e-02, -1.3424e-01,\n",
       "           1.2901e-01, -1.3098e-02, -6.6707e-02, -8.6357e-02,  7.8332e-02,\n",
       "           1.2239e-02,  1.4193e-01,  2.4964e-01, -1.3928e-01, -8.1319e-02,\n",
       "          -3.3757e-02,  3.2082e-02,  2.4475e-01,  5.9170e-02, -1.0659e-01,\n",
       "           8.2135e-02, -3.4662e-01, -4.0611e-01, -1.0537e-01,  2.2505e-01,\n",
       "          -1.5104e-01, -5.5448e-02,  1.8810e-01,  2.5277e-01,  3.6688e-02,\n",
       "          -2.8979e-01,  2.7794e-01,  6.1990e-02, -1.0782e-01,  3.5069e-01,\n",
       "           1.8230e-01, -2.0973e-01,  2.7432e-01,  2.6626e-02, -1.9963e-01,\n",
       "          -2.3292e-01, -5.3274e-02,  1.9217e-02, -1.3250e-01,  2.0588e-03,\n",
       "           2.5716e-02,  6.3875e-02,  1.6857e-01, -1.4395e-01,  5.7092e-02,\n",
       "           5.3942e-02, -2.0077e-01, -1.0080e-01,  1.6863e-01, -3.3170e-01,\n",
       "          -5.3853e-01, -2.8106e-01, -1.9976e-01, -1.4294e-01, -1.3859e-01,\n",
       "           3.8894e-01,  1.6479e-01, -5.3734e-02,  1.3637e-01,  3.0068e-02,\n",
       "           3.0893e-01,  1.4327e-02,  1.6129e-01,  3.1139e-01, -1.6568e-01,\n",
       "          -7.9657e-03, -2.0958e-01, -1.0281e-01,  3.5324e-01, -1.0567e-01,\n",
       "          -5.8556e-02,  9.3369e-02,  1.1648e-01, -1.3798e-01, -2.3851e-01,\n",
       "          -3.8207e-01, -9.8543e-02, -9.3467e-02,  1.2520e-01, -1.1062e-01,\n",
       "           1.6582e-01,  1.0818e-01, -1.9717e-01, -1.3489e-01, -5.4720e-02,\n",
       "          -9.3402e-02,  2.6360e-01,  1.2385e-01,  1.8985e-01,  1.4471e-01,\n",
       "           3.2649e-01,  2.9378e-01,  1.8079e-01, -5.2757e-01, -2.1517e-01,\n",
       "          -2.0087e-01, -1.6715e-02, -1.5241e-01, -9.6169e-02, -1.5351e-01,\n",
       "          -1.9263e-01,  2.7597e-02, -3.5116e-01,  1.9531e+00,  2.1804e-01,\n",
       "           2.7455e-01, -3.0383e-02,  2.3042e-02, -1.1040e-01,  6.8084e-02,\n",
       "           1.6819e-01, -2.3985e-01,  2.7489e-01, -1.1664e-01,  9.8606e-02,\n",
       "          -2.6994e-02,  9.6058e-02,  4.1689e-01,  1.1756e-01, -8.4058e-02,\n",
       "          -9.0463e-03, -7.1376e-01, -1.9147e-01, -2.6122e-01,  7.8427e-02,\n",
       "           4.5298e-01, -1.3170e-02,  1.6693e-01,  2.4969e-01,  6.1675e-02,\n",
       "          -2.0383e-01,  6.2522e-02,  9.2147e-02, -7.6351e-02, -3.1085e-02,\n",
       "           1.3661e-01,  5.7010e-02, -3.3863e-01, -4.9668e-02,  1.0856e-01,\n",
       "          -3.8452e-01, -2.1216e-01, -2.5531e-02, -6.1672e-02, -1.1058e-01,\n",
       "           4.3710e-01,  1.5805e-01, -2.1765e-02,  3.3705e-01, -1.4778e-01,\n",
       "          -2.0211e-01,  3.8775e-01,  2.1390e-01,  1.2601e-02, -7.4676e-02,\n",
       "          -1.5167e-01,  2.6140e-01, -6.3673e-03, -3.6041e-02,  1.2627e-01,\n",
       "          -1.3348e-01,  1.1298e-01,  2.3918e-01,  4.6504e-02,  2.7387e-01,\n",
       "           2.6779e-01, -1.3219e-01, -4.0080e-02,  2.2250e-01, -3.3825e-02,\n",
       "          -1.5152e-01,  1.3421e-01, -5.9236e-02, -9.0818e-03,  2.5004e-01,\n",
       "           1.5880e-01,  2.3925e-01, -1.4099e-01,  9.5128e-02,  4.6482e-01,\n",
       "           6.5462e-02, -1.3512e-01, -2.8705e+00,  1.6414e-01,  6.5447e-02,\n",
       "           8.0043e-02,  1.4024e-01,  2.4770e-01,  1.0595e-01, -1.6517e-01,\n",
       "           2.5845e-01, -9.2091e-02,  1.2284e-01,  2.6322e-01,  2.9493e-01,\n",
       "           1.0018e-01,  1.9750e-01,  1.7573e-01,  1.6417e-01,  5.8261e-02,\n",
       "          -2.6669e-01, -2.3926e-01, -1.7427e-01,  1.8758e-01, -4.5343e-02,\n",
       "          -2.7610e-01, -3.8304e-01,  2.2491e-01, -1.4777e-01, -1.9875e-02,\n",
       "           2.3241e-01,  1.8489e-01, -5.0066e-02,  3.7768e-01,  2.7042e-02,\n",
       "           2.4892e-01,  4.1690e-02, -3.0728e-01, -2.4694e-01, -7.6801e-02,\n",
       "           1.0234e-02,  1.6753e-02, -1.2469e-01,  2.5393e-01,  1.6792e-01,\n",
       "          -6.4098e-02,  6.9653e-02, -1.6327e-01,  3.7457e-01, -8.9203e-02,\n",
       "           1.6170e-01, -2.9383e-01, -2.3540e-02,  1.8496e-02,  4.3380e-02,\n",
       "          -3.0953e-02,  2.0399e-01,  5.0104e-02,  7.0994e-02, -4.5954e-02,\n",
       "          -9.4303e-03, -1.8107e-01,  1.5580e-01,  1.4979e-01,  1.7684e-01,\n",
       "           2.7879e-04,  3.7581e-01, -1.5818e-01, -1.0548e-01,  2.7775e-01,\n",
       "           7.5977e-03, -2.9627e-02, -9.5440e-02, -1.7093e-01,  6.6050e-02,\n",
       "           1.2896e-01, -4.7788e-03, -1.5916e-02,  3.1259e-01,  1.7665e-01,\n",
       "           6.7563e-02,  9.1881e-04, -1.7901e-01, -1.0784e-02,  4.9254e-02,\n",
       "          -2.6314e-01,  2.9999e-01, -7.6389e+00, -1.7126e-01,  8.9796e-02,\n",
       "          -4.5319e-01, -1.0780e-01, -1.0774e-01,  2.9627e-01, -1.7547e-01,\n",
       "           1.3433e-01, -2.7305e-01,  2.3751e-01, -1.0240e-02, -6.7025e-02,\n",
       "           5.8711e-02,  3.5433e-01,  4.0421e-01]])}"
      ]
     },
     "execution_count": 35,
     "metadata": {},
     "output_type": "execute_result"
    }
   ],
   "source": [
    "emotions_hidden[\"train\"][:1]"
   ]
  },
  {
   "cell_type": "code",
   "execution_count": 37,
   "metadata": {},
   "outputs": [
    {
     "data": {
      "text/plain": [
       "((16000, 768), (2000, 768))"
      ]
     },
     "execution_count": 37,
     "metadata": {},
     "output_type": "execute_result"
    }
   ],
   "source": [
    "X_train = np.array(emotions_hidden[\"train\"][\"hidden_state\"])\n",
    "X_valid = np.array(emotions_hidden[\"validation\"][\"hidden_state\"])\n",
    "y_train = np.array(emotions_hidden[\"train\"][\"label\"])\n",
    "y_valid = np.array(emotions_hidden[\"validation\"][\"label\"])\n",
    "\n",
    "X_train.shape, X_valid.shape"
   ]
  },
  {
   "cell_type": "code",
   "execution_count": 38,
   "metadata": {},
   "outputs": [
    {
     "data": {
      "text/html": [
       "<div>\n",
       "<style scoped>\n",
       "    .dataframe tbody tr th:only-of-type {\n",
       "        vertical-align: middle;\n",
       "    }\n",
       "\n",
       "    .dataframe tbody tr th {\n",
       "        vertical-align: top;\n",
       "    }\n",
       "\n",
       "    .dataframe thead th {\n",
       "        text-align: right;\n",
       "    }\n",
       "</style>\n",
       "<table border=\"1\" class=\"dataframe\">\n",
       "  <thead>\n",
       "    <tr style=\"text-align: right;\">\n",
       "      <th></th>\n",
       "      <th>X</th>\n",
       "      <th>Y</th>\n",
       "      <th>label</th>\n",
       "    </tr>\n",
       "  </thead>\n",
       "  <tbody>\n",
       "    <tr>\n",
       "      <th>0</th>\n",
       "      <td>3.941807</td>\n",
       "      <td>6.622201</td>\n",
       "      <td>0</td>\n",
       "    </tr>\n",
       "    <tr>\n",
       "      <th>1</th>\n",
       "      <td>-3.108758</td>\n",
       "      <td>5.630453</td>\n",
       "      <td>0</td>\n",
       "    </tr>\n",
       "    <tr>\n",
       "      <th>2</th>\n",
       "      <td>5.236826</td>\n",
       "      <td>3.177783</td>\n",
       "      <td>3</td>\n",
       "    </tr>\n",
       "    <tr>\n",
       "      <th>3</th>\n",
       "      <td>-2.349279</td>\n",
       "      <td>3.592469</td>\n",
       "      <td>2</td>\n",
       "    </tr>\n",
       "    <tr>\n",
       "      <th>4</th>\n",
       "      <td>-3.361433</td>\n",
       "      <td>3.640920</td>\n",
       "      <td>3</td>\n",
       "    </tr>\n",
       "  </tbody>\n",
       "</table>\n",
       "</div>"
      ],
      "text/plain": [
       "          X         Y  label\n",
       "0  3.941807  6.622201      0\n",
       "1 -3.108758  5.630453      0\n",
       "2  5.236826  3.177783      3\n",
       "3 -2.349279  3.592469      2\n",
       "4 -3.361433  3.640920      3"
      ]
     },
     "execution_count": 38,
     "metadata": {},
     "output_type": "execute_result"
    }
   ],
   "source": [
    "# Scale features to the [0,1] range\n",
    "X_scaled = MinMaxScaler().fit_transform(X_train)\n",
    "# Initialize and fit UMAP\n",
    "mapper = UMAP(n_components=2, metric=\"cosine\").fit(X_scaled)\n",
    "# Create a df from 2d embeddings\n",
    "df_emb = pd.DataFrame(mapper.embedding_, columns=[\"X\", \"Y\"])\n",
    "df_emb[\"label\"] = y_train\n",
    "df_emb.head()"
   ]
  },
  {
   "cell_type": "code",
   "execution_count": 39,
   "metadata": {},
   "outputs": [
    {
     "data": {
      "image/png": "[encoded data removed]",
      "text/plain": [
       "<Figure size 700x500 with 6 Axes>"
      ]
     },
     "metadata": {},
     "output_type": "display_data"
    }
   ],
   "source": [
    "fig, axes = plt.subplots(2, 3, figsize=(7, 5))\n",
    "axes = axes.flatten()\n",
    "cmaps = [\"Greys\", \"Blues\", \"Oranges\", \"Reds\", \"Purples\", \"Greens\"]\n",
    "labels = emotions[\"train\"].features[\"label\"].names\n",
    "\n",
    "for i, (label, cmap) in enumerate(zip(labels, cmaps)):\n",
    "    df_emb_sub = df_emb.query(f\"label=={i}\")\n",
    "    axes[i].hexbin(\n",
    "        df_emb_sub[\"X\"], df_emb_sub[\"Y\"], cmap=cmap, gridsize=20, linewidths=(0,)\n",
    "    )\n",
    "    axes[i].set_title(label)\n",
    "    axes[i].set_xticks([]), axes[i].set_yticks([])\n",
    "\n",
    "plt.tight_layout()\n",
    "plt.show()"
   ]
  },
  {
   "cell_type": "markdown",
   "metadata": {},
   "source": [
    "Training a simple classifier"
   ]
  },
  {
   "cell_type": "code",
   "execution_count": 42,
   "metadata": {},
   "outputs": [
    {
     "data": {
      "text/plain": [
       "0.6335"
      ]
     },
     "execution_count": 42,
     "metadata": {},
     "output_type": "execute_result"
    }
   ],
   "source": [
    "# We increase max_iter to guarantee convergence\n",
    "lr_clf = LogisticRegression(max_iter=3000)\n",
    "lr_clf.fit(X_train, y_train)\n",
    "lr_clf.score(X_valid, y_valid)"
   ]
  },
  {
   "cell_type": "code",
   "execution_count": 46,
   "metadata": {},
   "outputs": [
    {
     "data": {
      "text/plain": [
       "0.352"
      ]
     },
     "execution_count": 46,
     "metadata": {},
     "output_type": "execute_result"
    }
   ],
   "source": [
    "dummy_clf = DummyClassifier(strategy=\"most_frequent\")\n",
    "dummy_clf.fit(X_train, y_train)\n",
    "dummy_clf.score(X_valid, y_valid)"
   ]
  },
  {
   "cell_type": "code",
   "execution_count": 49,
   "metadata": {},
   "outputs": [
    {
     "data": {
      "image/png": "[encoded data removed]",
      "text/plain": [
       "<Figure size 640x480 with 1 Axes>"
      ]
     },
     "metadata": {},
     "output_type": "display_data"
    }
   ],
   "source": [
    "def plot_confusion_matrix(y_preds, y_true, labels):\n",
    "    cm = confusion_matrix(y_true, y_preds, normalize=\"true\")\n",
    "    fig, ax = plt.subplots()\n",
    "    disp = ConfusionMatrixDisplay(confusion_matrix=cm, display_labels=labels)\n",
    "    disp.plot(cmap=\"Blues\", values_format=\".2f\", ax=ax, colorbar=False)\n",
    "    plt.title(\"Normalized Confusion Matrix\")\n",
    "    plt.show()\n",
    "\n",
    "\n",
    "y_preds = lr_clf.predict(X_valid)\n",
    "plot_confusion_matrix(y_preds, y_valid, labels)"
   ]
  },
  {
   "cell_type": "code",
   "execution_count": 50,
   "metadata": {},
   "outputs": [
    {
     "name": "stderr",
     "output_type": "stream",
     "text": [
      "Some weights of DistilBertForSequenceClassification were not initialized from the model checkpoint at distilbert-base-uncased and are newly initialized: ['classifier.bias', 'classifier.weight', 'pre_classifier.bias', 'pre_classifier.weight']\n",
      "You should probably TRAIN this model on a down-stream task to be able to use it for predictions and inference.\n"
     ]
    }
   ],
   "source": [
    "from transformers import AutoModelForSequenceClassification\n",
    "\n",
    "num_labels = 6\n",
    "model = (\n",
    "    AutoModelForSequenceClassification.from_pretrained(\n",
    "        model_ckpt, num_labels=num_labels\n",
    "    )\n",
    ").to(device)"
   ]
  },
  {
   "cell_type": "code",
   "execution_count": 51,
   "metadata": {},
   "outputs": [],
   "source": [
    "from sklearn.metrics import accuracy_score, f1_score\n",
    "\n",
    "\n",
    "def compute_metrics(pred):\n",
    "    labels = pred.label_ids\n",
    "    preds = pred.predictions.argmax(-1)\n",
    "    f1 = f1_score(labels, preds, average=\"weighted\")\n",
    "    acc = accuracy_score(labels, preds)\n",
    "    return {\"accuracy\": acc, \"f1\": f1}"
   ]
  },
  {
   "cell_type": "code",
   "execution_count": 52,
   "metadata": {},
   "outputs": [
    {
     "data": {
      "application/vnd.jupyter.widget-view+json": {
       "model_id": "a24f597a62b74677bf1321017a6f7c05",
       "version_major": 2,
       "version_minor": 0
      },
      "text/plain": [
       "VBox(children=(HTML(value='<center> <img\\nsrc=https://huggingface.co/front/assets/huggingface_logo-noborder.sv…"
      ]
     },
     "metadata": {},
     "output_type": "display_data"
    },
    {
     "name": "stderr",
     "output_type": "stream",
     "text": [
      "huggingface/tokenizers: The current process just got forked, after parallelism has already been used. Disabling parallelism to avoid deadlocks...\n",
      "To disable this warning, you can either:\n",
      "\t- Avoid using `tokenizers` before the fork if possible\n",
      "\t- Explicitly set the environment variable TOKENIZERS_PARALLELISM=(true | false)\n"
     ]
    }
   ],
   "source": [
    "from huggingface_hub import notebook_login\n",
    "\n",
    "notebook_login()"
   ]
  },
  {
   "cell_type": "code",
   "execution_count": 54,
   "metadata": {},
   "outputs": [
    {
     "name": "stderr",
     "output_type": "stream",
     "text": [
      "/transformers/src/transformers/training_args.py:1474: FutureWarning: `evaluation_strategy` is deprecated and will be removed in version 4.46 of 🤗 Transformers. Use `eval_strategy` instead\n",
      "  warnings.warn(\n",
      "huggingface/tokenizers: The current process just got forked, after parallelism has already been used. Disabling parallelism to avoid deadlocks...\n",
      "To disable this warning, you can either:\n",
      "\t- Avoid using `tokenizers` before the fork if possible\n",
      "\t- Explicitly set the environment variable TOKENIZERS_PARALLELISM=(true | false)\n"
     ]
    }
   ],
   "source": [
    "from transformers import Trainer, TrainingArguments\n",
    "\n",
    "batch_size = 64\n",
    "logging_steps = len(emotions_encoded[\"train\"]) // batch_size\n",
    "model_name = f\"{model_ckpt}-finetuned-emotion\"\n",
    "training_args = TrainingArguments(\n",
    "    output_dir=model_name,\n",
    "    num_train_epochs=2,\n",
    "    learning_rate=2e-5,\n",
    "    per_device_eval_batch_size=batch_size,\n",
    "    per_device_train_batch_size=batch_size,\n",
    "    weight_decay=0.01,\n",
    "    evaluation_strategy=\"epoch\",\n",
    "    disable_tqdm=False,\n",
    "    logging_steps=logging_steps,\n",
    "    push_to_hub=True,\n",
    "    log_level=\"error\",\n",
    ")"
   ]
  },
  {
   "cell_type": "code",
   "execution_count": 57,
   "metadata": {},
   "outputs": [
    {
     "name": "stderr",
     "output_type": "stream",
     "text": [
      "CODECARBON : No CPU tracking mode found. Falling back on CPU constant mode.\n",
      "huggingface/tokenizers: The current process just got forked, after parallelism has already been used. Disabling parallelism to avoid deadlocks...\n",
      "To disable this warning, you can either:\n",
      "\t- Avoid using `tokenizers` before the fork if possible\n",
      "\t- Explicitly set the environment variable TOKENIZERS_PARALLELISM=(true | false)\n",
      "CODECARBON : Failed to match CPU TDP constant. Falling back on a global constant.\n"
     ]
    },
    {
     "data": {
      "text/html": [
       "\n",
       "    <div>\n",
       "      \n",
       "      <progress value='500' max='500' style='width:300px; height:20px; vertical-align: middle;'></progress>\n",
       "      [500/500 04:42, Epoch 2/2]\n",
       "    </div>\n",
       "    <table border=\"1\" class=\"dataframe\">\n",
       "  <thead>\n",
       " <tr style=\"text-align: left;\">\n",
       "      <th>Epoch</th>\n",
       "      <th>Training Loss</th>\n",
       "      <th>Validation Loss</th>\n",
       "      <th>Accuracy</th>\n",
       "      <th>F1</th>\n",
       "    </tr>\n",
       "  </thead>\n",
       "  <tbody>\n",
       "    <tr>\n",
       "      <td>1</td>\n",
       "      <td>0.833800</td>\n",
       "      <td>0.318828</td>\n",
       "      <td>0.906000</td>\n",
       "      <td>0.904923</td>\n",
       "    </tr>\n",
       "    <tr>\n",
       "      <td>2</td>\n",
       "      <td>0.259900</td>\n",
       "      <td>0.221172</td>\n",
       "      <td>0.923000</td>\n",
       "      <td>0.922729</td>\n",
       "    </tr>\n",
       "  </tbody>\n",
       "</table><p>"
      ],
      "text/plain": [
       "<IPython.core.display.HTML object>"
      ]
     },
     "metadata": {},
     "output_type": "display_data"
    },
    {
     "data": {
      "text/plain": [
       "TrainOutput(global_step=500, training_loss=0.5468516387939453, metrics={'train_runtime': 283.2384, 'train_samples_per_second': 112.979, 'train_steps_per_second': 1.765, 'total_flos': 720342861696000.0, 'train_loss': 0.5468516387939453, 'epoch': 2.0})"
      ]
     },
     "execution_count": 57,
     "metadata": {},
     "output_type": "execute_result"
    }
   ],
   "source": [
    "from transformers import Trainer\n",
    "\n",
    "trainer = Trainer(\n",
    "    model=model,\n",
    "    args=training_args,\n",
    "    compute_metrics=compute_metrics,\n",
    "    train_dataset=emotions_encoded[\"train\"],\n",
    "    eval_dataset=emotions_encoded[\"validation\"],\n",
    "    tokenizer=tokenizer\n",
    ")\n",
    "\n",
    "trainer.train()"
   ]
  },
  {
   "cell_type": "code",
   "execution_count": 58,
   "metadata": {},
   "outputs": [
    {
     "data": {
      "text/html": [],
      "text/plain": [
       "<IPython.core.display.HTML object>"
      ]
     },
     "metadata": {},
     "output_type": "display_data"
    }
   ],
   "source": [
    "preds_output = trainer.predict(emotions_encoded[\"validation\"])"
   ]
  },
  {
   "cell_type": "code",
   "execution_count": 59,
   "metadata": {},
   "outputs": [
    {
     "data": {
      "text/plain": [
       "{'test_loss': 0.22117196023464203,\n",
       " 'test_accuracy': 0.923,\n",
       " 'test_f1': 0.9227292162506584,\n",
       " 'test_runtime': 5.4974,\n",
       " 'test_samples_per_second': 363.811,\n",
       " 'test_steps_per_second': 5.821}"
      ]
     },
     "execution_count": 59,
     "metadata": {},
     "output_type": "execute_result"
    }
   ],
   "source": [
    "preds_output.metrics"
   ]
  },
  {
   "cell_type": "code",
   "execution_count": 60,
   "metadata": {},
   "outputs": [
    {
     "data": {
      "image/png": "[encoded data removed]",
      "text/plain": [
       "<Figure size 640x480 with 1 Axes>"
      ]
     },
     "metadata": {},
     "output_type": "display_data"
    }
   ],
   "source": [
    "y_preds = np.argmax(preds_output.predictions, axis=1)\n",
    "plot_confusion_matrix(y_preds,y_valid,labels)"
   ]
  }
 ],
 "metadata": {
  "kernelspec": {
   "display_name": "Python 3 (ipykernel)",
   "language": "python",
   "name": "python3"
  },
  "language_info": {
   "codemirror_mode": {
    "name": "ipython",
    "version": 3
   },
   "file_extension": ".py",
   "mimetype": "text/x-python",
   "name": "python",
   "nbconvert_exporter": "python",
   "pygments_lexer": "ipython3",
   "version": "3.8.10"
  }
 },
 "nbformat": 4,
 "nbformat_minor": 2
}
